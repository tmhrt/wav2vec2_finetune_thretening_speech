{
 "cells": [
  {
   "cell_type": "code",
   "execution_count": null,
   "id": "fe38e3a7",
   "metadata": {
    "ExecuteTime": {
     "end_time": "2021-09-30T04:20:29.554937Z",
     "start_time": "2021-09-30T04:20:26.755900Z"
    }
   },
   "outputs": [],
   "source": [
    "#Importing Python Libraries\n",
    "import numpy as np\n",
    "import pandas as pd\n",
    "from sklearn.model_selection import train_test_split\n",
    "import os\n",
    "import warnings\n",
    "warnings.filterwarnings('ignore')"
   ]
  },
  {
   "cell_type": "markdown",
   "id": "0dc511c1",
   "metadata": {},
   "source": [
    "# Transcript Prep"
   ]
  },
  {
   "cell_type": "code",
   "execution_count": null,
   "id": "30ca64ea",
   "metadata": {
    "ExecuteTime": {
     "end_time": "2021-09-30T04:20:29.600868Z",
     "start_time": "2021-09-30T04:20:29.578595Z"
    }
   },
   "outputs": [],
   "source": [
    "#Source and Destination Paths\n",
    "source='D:/Goals/Research/Final-Toxic Speech/GitHub/Datasets/'\n",
    "destination='D:/Goals/Research/Final-Toxic Speech/Data/Detoxy-B/Transcripts/'"
   ]
  },
  {
   "cell_type": "code",
   "execution_count": null,
   "id": "0493cf8b",
   "metadata": {
    "ExecuteTime": {
     "end_time": "2021-09-30T04:20:29.651046Z",
     "start_time": "2021-09-30T04:20:29.625562Z"
    }
   },
   "outputs": [],
   "source": [
    "# Extracting Toxic Data\n",
    "\n",
    "def get_toxic(data):\n",
    "    print(\"--- (With Toxic Filter = Yes) ---\")\n",
    "    toxic=data[data['Label']==1]\n",
    "    toxic.reset_index(drop=True,inplace=True)\n",
    "    print(\"Toxic Shape: \",toxic.shape)\n",
    "    return toxic"
   ]
  },
  {
   "cell_type": "code",
   "execution_count": null,
   "id": "6ad815b4",
   "metadata": {
    "ExecuteTime": {
     "end_time": "2021-09-30T04:20:29.682164Z",
     "start_time": "2021-09-30T04:20:29.656992Z"
    }
   },
   "outputs": [],
   "source": [
    "# Extracting Non-Toxic Data\n",
    "\n",
    "def get_nontoxic(data,shape):\n",
    "    nontoxic=data[(data['Toxic Filter']=='Yes') & (data['Label']==0)].sample(n=shape)\n",
    "    nontoxic.reset_index(drop=True,inplace=True)\n",
    "    print(\"Non Toxic Shape (with Toxic Filter - Yes):\",toxic.shape)\n",
    "    return nontoxic"
   ]
  },
  {
   "cell_type": "code",
   "execution_count": null,
   "id": "1337ccac",
   "metadata": {
    "ExecuteTime": {
     "end_time": "2021-09-30T04:20:29.713478Z",
     "start_time": "2021-09-30T04:20:29.686123Z"
    }
   },
   "outputs": [],
   "source": [
    "# Extracting Non Toxic Data (Sentiment Balanced)\n",
    "\n",
    "def get_nontoxic_balanced(data,shape):\n",
    "    \n",
    "    sentiment_number=(shape*2)//3\n",
    "\n",
    "    positive=data[(data['Toxic Filter']=='No') & (data['Sentiment']=='positive')].sample(n=sentiment_number)\n",
    "    negative=data[(data['Toxic Filter']=='No') & (data['Sentiment']=='negative')].sample(n=sentiment_number)\n",
    "    neutral=data[(data['Toxic Filter']=='No') & (data['Sentiment']=='neutral')].sample(n=sentiment_number)\n",
    "\n",
    "    non_toxic_balanced=positive.copy()\n",
    "    non_toxic_balanced=non_toxic_balanced.append(negative)\n",
    "    non_toxic_balanced=non_toxic_balanced.append(neutral)\n",
    "    non_toxic_balanced.reset_index(drop=True,inplace=True)\n",
    "    \n",
    "    print(\"\\n --- Non Toxic Balanced (With Toxic Filter = No) ---\")\n",
    "    print(\"Number of Positive: \",positive.shape[0])\n",
    "    print(\"Number of Negative: \",negative.shape[0])\n",
    "    print(\"Number of Neutral: \",neutral.shape[0])\n",
    "    print(\"Total Non Toxic Balanced Shape:\",non_toxic_balanced.shape)\n",
    "    \n",
    "    return non_toxic_balanced"
   ]
  },
  {
   "cell_type": "code",
   "execution_count": null,
   "id": "cacc7a01",
   "metadata": {
    "ExecuteTime": {
     "end_time": "2021-09-30T04:20:31.591176Z",
     "start_time": "2021-09-30T04:20:31.578132Z"
    }
   },
   "outputs": [],
   "source": [
    "#Splitting Data into Train/Dev and Test Datasets\n",
    "\n",
    "def get_split(data):\n",
    "    \n",
    "    X=data.drop(['Label'],axis=1)\n",
    "    y=data['Label']\n",
    "\n",
    "    X_train, X_test, y_train, y_test = train_test_split(X, y, test_size=0.15, random_state=1, stratify=y)\n",
    "\n",
    "    train=X_train.copy()\n",
    "    train['label']=y_train\n",
    "    train.reset_index(drop=True,inplace=True)\n",
    "\n",
    "    test=X_test.copy()\n",
    "    test['label']=y_test\n",
    "    test.reset_index(drop=True,inplace=True)\n",
    "    \n",
    "    test_shape=test.shape[0]\n",
    "\n",
    "    ## Further splitting train into train and dev\n",
    "    X=train.drop(['label'],axis=1)\n",
    "    y=train['label']\n",
    "    \n",
    "    perc=test_shape/(train.shape[0])\n",
    "    perc=round(perc,2)\n",
    "    \n",
    "    X_train, X_test, y_train, y_test = train_test_split(X, y, test_size=perc, random_state=1, stratify=y)\n",
    "\n",
    "    #Final Train\n",
    "    train=X_train.copy()\n",
    "    train['label']=y_train\n",
    "    train.reset_index(drop=True,inplace=True)\n",
    "\n",
    "    #Final Dev\n",
    "    dev=X_test.copy()\n",
    "    dev['label']=y_test\n",
    "    dev.reset_index(drop=True,inplace=True)\n",
    "    \n",
    "    #Assigning Split Labels\n",
    "    train['label2a']=0\n",
    "    dev['label2a']=1\n",
    "    test['label2a']=2\n",
    "\n",
    "    final_dataset=train.copy()\n",
    "    final_dataset=final_dataset.append(test)\n",
    "    final_dataset=final_dataset.append(dev)\n",
    "\n",
    "    final_dataset.reset_index(drop=True,inplace=True)\n",
    "    final_dataset.rename(columns={'label':'label2a','label2a':'split'},inplace=True)\n",
    "    final_dataset.reset_index(drop=True,inplace=True)\n",
    "    \n",
    "    return final_dataset"
   ]
  },
  {
   "cell_type": "markdown",
   "id": "35ae6311",
   "metadata": {},
   "source": [
    "### MELD"
   ]
  },
  {
   "cell_type": "code",
   "execution_count": null,
   "id": "ba06cac5",
   "metadata": {
    "ExecuteTime": {
     "end_time": "2021-09-27T12:05:31.806134Z",
     "start_time": "2021-09-27T12:05:31.658940Z"
    }
   },
   "outputs": [],
   "source": [
    "meld=pd.read_csv(source+\"MELD.csv\")\n",
    "meld['Dataset']='MELD'\n",
    "\n",
    "meld['Label']=np.where((meld['Label']==2) ,0,meld['Label'])"
   ]
  },
  {
   "cell_type": "code",
   "execution_count": null,
   "id": "6b0b7760",
   "metadata": {
    "ExecuteTime": {
     "end_time": "2021-09-27T12:05:31.821758Z",
     "start_time": "2021-09-27T12:05:31.806134Z"
    }
   },
   "outputs": [],
   "source": [
    "meld=meld[['FileName','Speaker','Dataset','text','Label','Sentiment','Toxic Filter']]"
   ]
  },
  {
   "cell_type": "code",
   "execution_count": null,
   "id": "53034057",
   "metadata": {
    "ExecuteTime": {
     "end_time": "2021-09-27T12:05:31.859689Z",
     "start_time": "2021-09-27T12:05:31.821758Z"
    }
   },
   "outputs": [],
   "source": [
    "#Toxic Subset\n",
    "toxic=get_toxic(meld)\n",
    "\n",
    "#Toxic Filtered Non-Toxic Subset\n",
    "nontoxic=get_nontoxic(meld,toxic.shape[0])\n",
    "\n",
    "#Sentiment Balanced Non Toxic Filtered\n",
    "nontoxic_balanced=get_nontoxic_balanced(meld,toxic.shape[0])"
   ]
  },
  {
   "cell_type": "code",
   "execution_count": null,
   "id": "ee63a0e9",
   "metadata": {
    "ExecuteTime": {
     "end_time": "2021-09-27T12:05:31.875167Z",
     "start_time": "2021-09-27T12:05:31.859689Z"
    }
   },
   "outputs": [],
   "source": [
    "#Final Combined\n",
    "final_meld=toxic.append(nontoxic,ignore_index=True)\n",
    "final_meld=final_meld.append(nontoxic_balanced,ignore_index=True)\n",
    "\n",
    "final_meld.reset_index(drop=True,inplace=True)"
   ]
  },
  {
   "cell_type": "code",
   "execution_count": null,
   "id": "cbe757f9",
   "metadata": {
    "ExecuteTime": {
     "end_time": "2021-09-27T12:05:31.890792Z",
     "start_time": "2021-09-27T12:05:31.875167Z"
    }
   },
   "outputs": [],
   "source": [
    "final_meld.shape"
   ]
  },
  {
   "cell_type": "code",
   "execution_count": null,
   "id": "c9ffc244",
   "metadata": {
    "ExecuteTime": {
     "end_time": "2021-09-27T12:05:31.906428Z",
     "start_time": "2021-09-27T12:05:31.890792Z"
    }
   },
   "outputs": [],
   "source": [
    "final_meld['Sentiment'].value_counts()"
   ]
  },
  {
   "cell_type": "code",
   "execution_count": null,
   "id": "f6ddd51a",
   "metadata": {
    "ExecuteTime": {
     "end_time": "2021-09-27T12:05:31.922042Z",
     "start_time": "2021-09-27T12:05:31.906428Z"
    }
   },
   "outputs": [],
   "source": [
    "final_meld['Speaker'].nunique()"
   ]
  },
  {
   "cell_type": "code",
   "execution_count": null,
   "id": "2f5294b3",
   "metadata": {
    "ExecuteTime": {
     "end_time": "2021-09-27T12:05:31.937668Z",
     "start_time": "2021-09-27T12:05:31.922042Z"
    }
   },
   "outputs": [],
   "source": [
    "final_meld.drop(['Speaker'],axis=1,inplace=True)"
   ]
  },
  {
   "cell_type": "code",
   "execution_count": null,
   "id": "8a05bd6b",
   "metadata": {
    "ExecuteTime": {
     "end_time": "2021-09-27T12:05:38.041649Z",
     "start_time": "2021-09-27T12:05:38.010383Z"
    }
   },
   "outputs": [],
   "source": [
    "final_meld.to_csv(destination+\"Meld.csv\",index=False)"
   ]
  },
  {
   "cell_type": "markdown",
   "id": "1d8e82de",
   "metadata": {},
   "source": [
    "### IEMOCAP"
   ]
  },
  {
   "cell_type": "code",
   "execution_count": null,
   "id": "cf7d7b10",
   "metadata": {
    "ExecuteTime": {
     "end_time": "2021-09-27T04:54:57.596834Z",
     "start_time": "2021-09-27T04:54:57.549919Z"
    }
   },
   "outputs": [],
   "source": [
    "iemocap=pd.read_csv(source+\"iemocap.csv\")"
   ]
  },
  {
   "cell_type": "code",
   "execution_count": null,
   "id": "7108ea55",
   "metadata": {
    "ExecuteTime": {
     "end_time": "2021-09-27T04:54:58.082907Z",
     "start_time": "2021-09-27T04:54:58.029204Z"
    }
   },
   "outputs": [],
   "source": [
    "iemocap=pd.read_csv(source+\"iemocap.csv\")\n",
    "iemocap=iemocap[['FileName','text','Label','Trigger','Sentiment Label','Sentiment Value','Toxic Filter']]\n",
    "\n",
    "iemocap['Sentiment']=np.where(((iemocap['Sentiment Value']>=0.4) & (iemocap['Sentiment Value']<=0.6)),\"neutral\",iemocap['Sentiment Label'])\n",
    "iemocap['Sentiment']=iemocap['Sentiment'].str.lower()\n",
    "iemocap['Dataset']='IEMOCAP'\n",
    "\n",
    "iemocap=iemocap[['FileName','Dataset','text','Label','Trigger','Sentiment','Toxic Filter']]"
   ]
  },
  {
   "cell_type": "code",
   "execution_count": null,
   "id": "3dff95a7",
   "metadata": {
    "ExecuteTime": {
     "end_time": "2021-09-27T04:54:58.468481Z",
     "start_time": "2021-09-27T04:54:58.437184Z"
    }
   },
   "outputs": [],
   "source": [
    "#Toxic Subset\n",
    "toxic=get_toxic(iemocap)\n",
    "\n",
    "#Toxic Filtered Non-Toxic Subset\n",
    "nontoxic=get_nontoxic(iemocap,toxic.shape[0])\n",
    "\n",
    "#Sentiment Balanced Non Toxic Filtered\n",
    "nontoxic_balanced=get_nontoxic_balanced(iemocap,toxic.shape[0])"
   ]
  },
  {
   "cell_type": "code",
   "execution_count": null,
   "id": "a9382688",
   "metadata": {
    "ExecuteTime": {
     "end_time": "2021-09-27T04:55:00.275414Z",
     "start_time": "2021-09-27T04:55:00.259828Z"
    }
   },
   "outputs": [],
   "source": [
    "#Final Combined\n",
    "final_iemocap=toxic.append(nontoxic,ignore_index=True)\n",
    "final_iemocap=final_iemocap.append(nontoxic_balanced,ignore_index=True)\n",
    "\n",
    "final_iemocap.reset_index(drop=True,inplace=True)\n",
    "final_iemocap.shape"
   ]
  },
  {
   "cell_type": "code",
   "execution_count": null,
   "id": "198b6dd5",
   "metadata": {
    "ExecuteTime": {
     "end_time": "2021-09-27T04:55:00.708025Z",
     "start_time": "2021-09-27T04:55:00.692397Z"
    }
   },
   "outputs": [],
   "source": [
    "final_iemocap.to_csv(destination+\"IEMOCAP.csv\",index=False)"
   ]
  },
  {
   "cell_type": "code",
   "execution_count": null,
   "id": "80909de5",
   "metadata": {
    "ExecuteTime": {
     "end_time": "2021-09-27T04:55:02.583586Z",
     "start_time": "2021-09-27T04:55:02.567970Z"
    }
   },
   "outputs": [],
   "source": [
    "final_iemocap['Sentiment'].value_counts()"
   ]
  },
  {
   "cell_type": "markdown",
   "id": "9f257ada",
   "metadata": {},
   "source": [
    "## LJSpeech"
   ]
  },
  {
   "cell_type": "code",
   "execution_count": null,
   "id": "c4744861",
   "metadata": {
    "ExecuteTime": {
     "end_time": "2021-09-27T12:05:49.749465Z",
     "start_time": "2021-09-27T12:05:49.564690Z"
    }
   },
   "outputs": [],
   "source": [
    "ljspeech=pd.read_csv(source+\"LJSpeech.csv\")\n",
    "\n",
    "ljspeech.rename(columns={'Normalized Transcription':'text'},inplace=True)\n",
    "\n",
    "ljspeech['Sentiment']=np.where(((ljspeech['Sentiment Value']>=0.4) & (ljspeech['Sentiment Value']<=0.6)),\"neutral\",ljspeech['Sentiment Label'])\n",
    "ljspeech['Sentiment']=ljspeech['Sentiment'].str.lower()\n",
    "ljspeech['Dataset']='LJ Speech'\n",
    "\n",
    "ljspeech=ljspeech[['FileName','Dataset','text','Label','Sentiment','Toxic Filter']]"
   ]
  },
  {
   "cell_type": "code",
   "execution_count": null,
   "id": "bb2633a4",
   "metadata": {
    "ExecuteTime": {
     "end_time": "2021-09-27T12:05:51.640584Z",
     "start_time": "2021-09-27T12:05:51.609307Z"
    }
   },
   "outputs": [],
   "source": [
    "#Toxic Subset\n",
    "toxic=get_toxic(ljspeech)\n",
    "\n",
    "#Toxic Filtered Non-Toxic Subset\n",
    "nontoxic=ljspeech[(ljspeech['Toxic Filter']=='Yes') & (ljspeech['Label']==0)]\n",
    "nontoxic.reset_index(drop=True,inplace=True)\n",
    "\n",
    "#Sentiment Balanced Non Toxic Filtered\n",
    "nontoxic_balanced=get_nontoxic_balanced(ljspeech,toxic.shape[0])"
   ]
  },
  {
   "cell_type": "code",
   "execution_count": null,
   "id": "ab96a934",
   "metadata": {
    "ExecuteTime": {
     "end_time": "2021-09-27T12:05:53.076313Z",
     "start_time": "2021-09-27T12:05:53.060719Z"
    }
   },
   "outputs": [],
   "source": [
    "#Final Combined\n",
    "final_ljspeech=toxic.append(nontoxic,ignore_index=True)\n",
    "final_ljspeech=final_ljspeech.append(nontoxic_balanced,ignore_index=True)\n",
    "\n",
    "final_ljspeech.reset_index(drop=True,inplace=True)\n",
    "final_ljspeech.shape"
   ]
  },
  {
   "cell_type": "code",
   "execution_count": null,
   "id": "2bc7bb42",
   "metadata": {
    "ExecuteTime": {
     "end_time": "2021-09-27T12:05:54.713012Z",
     "start_time": "2021-09-27T12:05:54.682109Z"
    }
   },
   "outputs": [],
   "source": [
    "final_ljspeech.to_csv(destination+\"LJSpeech.csv\",index=False)"
   ]
  },
  {
   "cell_type": "code",
   "execution_count": null,
   "id": "bfa79e05",
   "metadata": {
    "ExecuteTime": {
     "end_time": "2021-09-27T12:05:55.067479Z",
     "start_time": "2021-09-27T12:05:55.051822Z"
    }
   },
   "outputs": [],
   "source": [
    "final_ljspeech['Sentiment'].value_counts()"
   ]
  },
  {
   "cell_type": "markdown",
   "id": "03bce4ee",
   "metadata": {},
   "source": [
    "## MOSEI"
   ]
  },
  {
   "cell_type": "code",
   "execution_count": null,
   "id": "80c43541",
   "metadata": {
    "ExecuteTime": {
     "end_time": "2021-09-27T12:06:00.870453Z",
     "start_time": "2021-09-27T12:06:00.604774Z"
    }
   },
   "outputs": [],
   "source": [
    "mosei=pd.read_csv(source+'mosei.csv')"
   ]
  },
  {
   "cell_type": "code",
   "execution_count": null,
   "id": "41f7b664",
   "metadata": {
    "ExecuteTime": {
     "end_time": "2021-09-27T12:06:00.917235Z",
     "start_time": "2021-09-27T12:06:00.870453Z"
    }
   },
   "outputs": [],
   "source": [
    "mosei['Sentiment']=np.where(((mosei['Sentiment Value']>=0.4) & (mosei['Sentiment Value']<=0.6)),\"neutral\",mosei['Sentiment Label'])\n",
    "mosei['Sentiment']=mosei['Sentiment'].str.lower()\n",
    "\n",
    "mosei['Dataset']='CMU-MOSEI'\n",
    "\n",
    "mosei['Label']=np.where((mosei['Label']==2) ,0,mosei['Label'])\n",
    "mosei=mosei[['FileName','Dataset','FileNameId','Starting','Ending','text','Label','Sentiment','Toxic Filter']]"
   ]
  },
  {
   "cell_type": "code",
   "execution_count": null,
   "id": "c726c45b",
   "metadata": {
    "ExecuteTime": {
     "end_time": "2021-09-27T12:06:01.255973Z",
     "start_time": "2021-09-27T12:06:01.224708Z"
    }
   },
   "outputs": [],
   "source": [
    "mosei=mosei[mosei['FileName']!='#NAME?']\n",
    "mosei.reset_index(drop=True,inplace=True)"
   ]
  },
  {
   "cell_type": "code",
   "execution_count": null,
   "id": "6200366b",
   "metadata": {
    "ExecuteTime": {
     "end_time": "2021-09-27T12:06:02.507172Z",
     "start_time": "2021-09-27T12:06:02.475890Z"
    }
   },
   "outputs": [],
   "source": [
    "mosei.rename(columns={'FileName':'OriginalFileName'},inplace=True)\n",
    "mosei['FileName']=mosei['OriginalFileName']+\"_\"+mosei['FileNameId'].map(str)"
   ]
  },
  {
   "cell_type": "code",
   "execution_count": null,
   "id": "3792934a",
   "metadata": {
    "ExecuteTime": {
     "end_time": "2021-09-27T12:06:02.761306Z",
     "start_time": "2021-09-27T12:06:02.745648Z"
    }
   },
   "outputs": [],
   "source": [
    "mosei['Label'].value_counts()"
   ]
  },
  {
   "cell_type": "code",
   "execution_count": null,
   "id": "6300bcb6",
   "metadata": {
    "ExecuteTime": {
     "end_time": "2021-09-27T12:06:03.046367Z",
     "start_time": "2021-09-27T12:06:03.024186Z"
    }
   },
   "outputs": [],
   "source": [
    "mosei['Sentiment'].value_counts()"
   ]
  },
  {
   "cell_type": "code",
   "execution_count": null,
   "id": "3a520f92",
   "metadata": {
    "ExecuteTime": {
     "end_time": "2021-09-27T12:06:05.270078Z",
     "start_time": "2021-09-27T12:06:05.201877Z"
    }
   },
   "outputs": [],
   "source": [
    "#Toxic Subset\n",
    "toxic=get_toxic(mosei)\n",
    "\n",
    "#Toxic Filtered Non-Toxic Subset\n",
    "nontoxic=get_nontoxic(mosei,toxic.shape[0])\n",
    "\n",
    "#Sentiment Balanced Non Toxic Filtered\n",
    "nontoxic_balanced=get_nontoxic_balanced(mosei,toxic.shape[0])"
   ]
  },
  {
   "cell_type": "code",
   "execution_count": null,
   "id": "9072fb6c",
   "metadata": {
    "ExecuteTime": {
     "end_time": "2021-09-27T12:06:05.454928Z",
     "start_time": "2021-09-27T12:06:05.439251Z"
    }
   },
   "outputs": [],
   "source": [
    "#Final Combined\n",
    "final_mosei=toxic.append(nontoxic,ignore_index=True)\n",
    "final_mosei=final_mosei.append(nontoxic_balanced,ignore_index=True)\n",
    "\n",
    "final_mosei.reset_index(drop=True,inplace=True)\n",
    "final_mosei.shape"
   ]
  },
  {
   "cell_type": "code",
   "execution_count": null,
   "id": "e4f40ab7",
   "metadata": {
    "ExecuteTime": {
     "end_time": "2021-09-27T12:06:06.806536Z",
     "start_time": "2021-09-27T12:06:06.790914Z"
    }
   },
   "outputs": [],
   "source": [
    "final_mosei.to_csv(destination+\"CMU-MOSEI.csv\",index=False)"
   ]
  },
  {
   "cell_type": "code",
   "execution_count": null,
   "id": "065f0de5",
   "metadata": {
    "ExecuteTime": {
     "end_time": "2021-09-27T12:06:07.408468Z",
     "start_time": "2021-09-27T12:06:07.392842Z"
    }
   },
   "outputs": [],
   "source": [
    "final_mosei['Sentiment'].value_counts()"
   ]
  },
  {
   "cell_type": "markdown",
   "id": "aad18635",
   "metadata": {},
   "source": [
    "## MOSI"
   ]
  },
  {
   "cell_type": "code",
   "execution_count": null,
   "id": "37d2d388",
   "metadata": {
    "ExecuteTime": {
     "end_time": "2021-09-27T05:01:47.340497Z",
     "start_time": "2021-09-27T05:01:47.309610Z"
    }
   },
   "outputs": [],
   "source": [
    "mosi=pd.read_csv(source+'mosi.csv')\n",
    "mosi.rename(columns={'file':'FileName'},inplace=True)\n",
    "\n",
    "mosi['Sentiment']=np.where(((mosi['Sentiment Value']>=0.4) & (mosi['Sentiment Value']<=0.6)),\"neutral\",mosi['Sentiment Label'])\n",
    "mosi['Sentiment']=mosi['Sentiment'].str.lower()\n",
    "mosi['Dataset']='CMU-MOSI'\n",
    "\n",
    "mosi['Label']=np.where((mosi['Label']==2) ,0,mosi['Label'])\n",
    "mosi=mosi[['FileName','start','end','id','Dataset','text','Label','Sentiment','Toxic Filter']]"
   ]
  },
  {
   "cell_type": "code",
   "execution_count": null,
   "id": "fd754df9",
   "metadata": {
    "ExecuteTime": {
     "end_time": "2021-09-27T05:01:47.741514Z",
     "start_time": "2021-09-27T05:01:47.725879Z"
    }
   },
   "outputs": [],
   "source": [
    "mosi['FileName']=mosi['FileName']+\"_\"+mosi['id'].map(str)"
   ]
  },
  {
   "cell_type": "code",
   "execution_count": null,
   "id": "37f5fc5a",
   "metadata": {
    "ExecuteTime": {
     "end_time": "2021-09-27T05:01:50.505270Z",
     "start_time": "2021-09-27T05:01:50.474407Z"
    }
   },
   "outputs": [],
   "source": [
    "#Toxic Subset\n",
    "toxic=get_toxic(mosi)\n",
    "\n",
    "#Toxic Filtered Non-Toxic Subset\n",
    "nontoxic=mosi[(mosi['Toxic Filter']=='Yes') & (mosi['Label']!=1)]\n",
    "nontoxic.reset_index(drop=True,inplace=True)\n",
    "\n",
    "#Sentiment Balanced Non Toxic Filtered\n",
    "nontoxic_balanced=get_nontoxic_balanced(mosi,toxic.shape[0])"
   ]
  },
  {
   "cell_type": "code",
   "execution_count": null,
   "id": "db0e28c9",
   "metadata": {
    "ExecuteTime": {
     "end_time": "2021-09-27T05:01:50.853072Z",
     "start_time": "2021-09-27T05:01:50.837442Z"
    }
   },
   "outputs": [],
   "source": [
    "#Final Combined\n",
    "final_mosi=toxic.append(nontoxic,ignore_index=True)\n",
    "final_mosi=final_mosi.append(nontoxic_balanced,ignore_index=True)\n",
    "\n",
    "final_mosi.reset_index(drop=True,inplace=True)\n",
    "final_mosi.shape"
   ]
  },
  {
   "cell_type": "code",
   "execution_count": null,
   "id": "6be6e69f",
   "metadata": {
    "ExecuteTime": {
     "end_time": "2021-09-27T05:01:51.307333Z",
     "start_time": "2021-09-27T05:01:51.291720Z"
    }
   },
   "outputs": [],
   "source": [
    "final_mosi.to_csv(destination+\"CMU-MOSI.csv\",index=False)"
   ]
  },
  {
   "cell_type": "code",
   "execution_count": null,
   "id": "f7699e4b",
   "metadata": {
    "ExecuteTime": {
     "end_time": "2021-09-27T05:01:51.992882Z",
     "start_time": "2021-09-27T05:01:51.961622Z"
    }
   },
   "outputs": [],
   "source": [
    "final_mosi['Sentiment'].value_counts()"
   ]
  },
  {
   "cell_type": "markdown",
   "id": "d4eb9813",
   "metadata": {},
   "source": [
    "## Common Voice"
   ]
  },
  {
   "cell_type": "code",
   "execution_count": null,
   "id": "6963a867",
   "metadata": {
    "ExecuteTime": {
     "end_time": "2021-09-27T05:01:58.128330Z",
     "start_time": "2021-09-27T05:01:54.048560Z"
    }
   },
   "outputs": [],
   "source": [
    "common_voices=pd.read_csv(source+'Common Voice.csv')\n",
    "\n",
    "common_voices.rename(columns={'path':'FileName','Trigger Term':'Trigger'},inplace=True)\n",
    "common_voices['Dataset']='Common Voice'"
   ]
  },
  {
   "cell_type": "code",
   "execution_count": null,
   "id": "08344075",
   "metadata": {
    "ExecuteTime": {
     "end_time": "2021-09-27T05:01:59.248654Z",
     "start_time": "2021-09-27T05:01:58.128330Z"
    }
   },
   "outputs": [],
   "source": [
    "common_voices['Sentiment Value']=common_voices['Sentiment Value'].str.replace(\"(\",\"\")\n",
    "common_voices['Sentiment Value']=common_voices['Sentiment Value'].str.replace(\")\",\"\")\n",
    "common_voices['Sentiment Value']=common_voices['Sentiment Value'].astype(float)"
   ]
  },
  {
   "cell_type": "code",
   "execution_count": null,
   "id": "f0191ade",
   "metadata": {
    "ExecuteTime": {
     "end_time": "2021-09-27T05:01:59.952749Z",
     "start_time": "2021-09-27T05:01:59.250765Z"
    }
   },
   "outputs": [],
   "source": [
    "common_voices['Sentiment']=np.where(((common_voices['Sentiment Value']>=0.4) & (common_voices['Sentiment Value']<=0.6)),\"neutral\",common_voices['Sentiment Label'])\n",
    "common_voices['Sentiment']=common_voices['Sentiment'].str.lower()\n",
    "\n",
    "common_voices=common_voices[['client_id','FileName','Dataset','text','Label','Trigger','Sentiment','Toxic Filter']]"
   ]
  },
  {
   "cell_type": "code",
   "execution_count": null,
   "id": "b019cc0f",
   "metadata": {
    "ExecuteTime": {
     "end_time": "2021-09-27T05:02:04.334592Z",
     "start_time": "2021-09-27T05:02:03.757078Z"
    }
   },
   "outputs": [],
   "source": [
    "#Toxic Subset\n",
    "toxic=get_toxic(common_voices)\n",
    "\n",
    "#Toxic Filtered Non-Toxic Subset\n",
    "nontoxic=get_nontoxic(common_voices,toxic.shape[0])\n",
    "\n",
    "#Sentiment Balanced Non Toxic Filtered\n",
    "nontoxic_balanced=get_nontoxic_balanced(common_voices,toxic.shape[0])"
   ]
  },
  {
   "cell_type": "code",
   "execution_count": null,
   "id": "dac99e96",
   "metadata": {
    "ExecuteTime": {
     "end_time": "2021-09-27T05:02:05.824119Z",
     "start_time": "2021-09-27T05:02:05.793229Z"
    }
   },
   "outputs": [],
   "source": [
    "#Final Combined\n",
    "final_common_voice=toxic.append(nontoxic,ignore_index=True)\n",
    "final_common_voice=final_common_voice.append(nontoxic_balanced,ignore_index=True)\n",
    "\n",
    "final_common_voice.reset_index(drop=True,inplace=True)\n",
    "final_common_voice.shape"
   ]
  },
  {
   "cell_type": "code",
   "execution_count": null,
   "id": "6f6eb96e",
   "metadata": {
    "ExecuteTime": {
     "end_time": "2021-09-27T05:02:07.499599Z",
     "start_time": "2021-09-27T05:02:07.468307Z"
    }
   },
   "outputs": [],
   "source": [
    "final_common_voice['client_id'].nunique()"
   ]
  },
  {
   "cell_type": "code",
   "execution_count": null,
   "id": "7d087cd7",
   "metadata": {
    "ExecuteTime": {
     "end_time": "2021-09-27T05:02:08.487713Z",
     "start_time": "2021-09-27T05:02:08.472043Z"
    }
   },
   "outputs": [],
   "source": [
    "final_common_voice.drop(['client_id'],axis=1,inplace=True)"
   ]
  },
  {
   "cell_type": "code",
   "execution_count": null,
   "id": "702cc124",
   "metadata": {
    "ExecuteTime": {
     "end_time": "2021-09-27T05:02:09.941096Z",
     "start_time": "2021-09-27T05:02:09.878547Z"
    }
   },
   "outputs": [],
   "source": [
    "final_common_voice.to_csv(destination+\"Common_Voice.csv\",index=False)"
   ]
  },
  {
   "cell_type": "code",
   "execution_count": null,
   "id": "9eeb9059",
   "metadata": {
    "ExecuteTime": {
     "end_time": "2021-09-27T05:02:10.998606Z",
     "start_time": "2021-09-27T05:02:10.976465Z"
    }
   },
   "outputs": [],
   "source": [
    "final_common_voice['Sentiment'].value_counts()"
   ]
  },
  {
   "cell_type": "markdown",
   "id": "c0cbce18",
   "metadata": {},
   "source": [
    "## MSP - Improv"
   ]
  },
  {
   "cell_type": "code",
   "execution_count": null,
   "id": "2afbe34c",
   "metadata": {
    "ExecuteTime": {
     "end_time": "2021-09-27T05:02:13.168927Z",
     "start_time": "2021-09-27T05:02:13.122268Z"
    }
   },
   "outputs": [],
   "source": [
    "msp_improv=pd.read_csv(source+'MSP-Improv.csv')\n",
    "msp_improv.rename(columns={'File Name':'FileName'},inplace=True)\n",
    "\n",
    "msp_improv['Sentiment']=np.where(((msp_improv['Sentiment Value']>=0.4) & (msp_improv['Sentiment Value']<=0.6)),\"neutral\",msp_improv['Sentiment Label'])\n",
    "msp_improv['Sentiment']=msp_improv['Sentiment'].str.lower()\n",
    "msp_improv['Dataset']='MSP-Improv'\n",
    "\n",
    "msp_improv=msp_improv[['FileName','Dataset','text','Label','Trigger','Sentiment','Toxic Filter']]"
   ]
  },
  {
   "cell_type": "code",
   "execution_count": null,
   "id": "43f43acd",
   "metadata": {
    "ExecuteTime": {
     "end_time": "2021-09-27T05:02:13.909176Z",
     "start_time": "2021-09-27T05:02:13.893541Z"
    }
   },
   "outputs": [],
   "source": [
    "msp_improv['Label'].value_counts()"
   ]
  },
  {
   "cell_type": "code",
   "execution_count": null,
   "id": "04ffb56c",
   "metadata": {
    "ExecuteTime": {
     "end_time": "2021-09-27T05:02:14.975698Z",
     "start_time": "2021-09-27T05:02:14.929189Z"
    }
   },
   "outputs": [],
   "source": [
    "#Toxic Subset\n",
    "toxic=get_toxic(msp_improv)\n",
    "\n",
    "#Toxic Filtered Non-Toxic Subset\n",
    "nontoxic=get_nontoxic(msp_improv,toxic.shape[0])\n",
    "\n",
    "#Sentiment Balanced Non Toxic Filtered\n",
    "nontoxic_balanced=get_nontoxic_balanced(msp_improv,toxic.shape[0])"
   ]
  },
  {
   "cell_type": "code",
   "execution_count": null,
   "id": "8704c328",
   "metadata": {
    "ExecuteTime": {
     "end_time": "2021-09-27T05:02:15.879807Z",
     "start_time": "2021-09-27T05:02:15.864130Z"
    }
   },
   "outputs": [],
   "source": [
    "#Final Combined\n",
    "final_msp_improv=toxic.append(nontoxic,ignore_index=True)\n",
    "final_msp_improv=final_msp_improv.append(nontoxic_balanced,ignore_index=True)\n",
    "\n",
    "final_msp_improv.reset_index(drop=True,inplace=True)\n",
    "final_msp_improv.shape"
   ]
  },
  {
   "cell_type": "code",
   "execution_count": null,
   "id": "4d201870",
   "metadata": {
    "ExecuteTime": {
     "end_time": "2021-09-27T05:02:22.277111Z",
     "start_time": "2021-09-27T05:02:22.246209Z"
    }
   },
   "outputs": [],
   "source": [
    "final_msp_improv.to_csv(destination+\"MSP-Improv.csv\",index=False)"
   ]
  },
  {
   "cell_type": "code",
   "execution_count": null,
   "id": "9a8c6804",
   "metadata": {
    "ExecuteTime": {
     "end_time": "2021-09-27T05:02:48.486317Z",
     "start_time": "2021-09-27T05:02:48.470694Z"
    }
   },
   "outputs": [],
   "source": [
    "final_msp_improv['Sentiment'].value_counts()"
   ]
  },
  {
   "cell_type": "markdown",
   "id": "a97db6c1",
   "metadata": {},
   "source": [
    "## Social IQ"
   ]
  },
  {
   "cell_type": "code",
   "execution_count": null,
   "id": "f536ce8b",
   "metadata": {
    "ExecuteTime": {
     "end_time": "2021-09-27T05:02:49.358130Z",
     "start_time": "2021-09-27T05:02:49.288712Z"
    }
   },
   "outputs": [],
   "source": [
    "social_iq=pd.read_csv(source+\"Social-IQ.csv\")\n",
    "social_iq.rename(columns={'Filename':'FileName'},inplace=True)\n",
    "\n",
    "social_iq['Sentiment']=np.where(((social_iq['Sentiment Value']>=0.4) & (social_iq['Sentiment Value']<=0.6)),\"neutral\",social_iq['Sentiment Label'])\n",
    "social_iq['Sentiment']=social_iq['Sentiment'].str.lower()\n",
    "social_iq['Dataset']='Social-IQ'\n",
    "\n",
    "social_iq['Label']=np.where((social_iq['Label']==2) ,0,social_iq['Label'])"
   ]
  },
  {
   "cell_type": "code",
   "execution_count": null,
   "id": "4539dfca",
   "metadata": {
    "ExecuteTime": {
     "end_time": "2021-09-27T05:02:49.821519Z",
     "start_time": "2021-09-27T05:02:49.790369Z"
    }
   },
   "outputs": [],
   "source": [
    "social_iq=social_iq[['FileName','Dataset','text','start','end','Label','Sentiment','Toxic Filter']]"
   ]
  },
  {
   "cell_type": "code",
   "execution_count": null,
   "id": "10ac390a",
   "metadata": {
    "ExecuteTime": {
     "end_time": "2021-09-27T05:02:50.638795Z",
     "start_time": "2021-09-27T05:02:50.623131Z"
    }
   },
   "outputs": [],
   "source": [
    "social_iq=social_iq[social_iq['text']!='#NAME?']\n",
    "social_iq=social_iq[social_iq['FileName']!='#NAME?']\n",
    "\n",
    "social_iq.reset_index(drop=True,inplace=True)"
   ]
  },
  {
   "cell_type": "code",
   "execution_count": null,
   "id": "ff0f5dbe",
   "metadata": {
    "ExecuteTime": {
     "end_time": "2021-09-27T05:02:51.062055Z",
     "start_time": "2021-09-27T05:02:51.046385Z"
    }
   },
   "outputs": [],
   "source": [
    "social_iq['Label'].value_counts()"
   ]
  },
  {
   "cell_type": "code",
   "execution_count": null,
   "id": "5896b282",
   "metadata": {
    "ExecuteTime": {
     "end_time": "2021-09-27T05:02:51.510438Z",
     "start_time": "2021-09-27T05:02:51.479491Z"
    }
   },
   "outputs": [],
   "source": [
    "#Toxic Subset\n",
    "toxic=get_toxic(social_iq)\n",
    "\n",
    "#Toxic Filtered Non-Toxic Subset\n",
    "nontoxic=get_nontoxic(social_iq,toxic.shape[0])\n",
    "\n",
    "#Sentiment Balanced Non Toxic Filtered\n",
    "nontoxic_balanced=get_nontoxic_balanced(social_iq,toxic.shape[0])"
   ]
  },
  {
   "cell_type": "code",
   "execution_count": null,
   "id": "f3640230",
   "metadata": {
    "ExecuteTime": {
     "end_time": "2021-09-27T05:02:52.011346Z",
     "start_time": "2021-09-27T05:02:51.995724Z"
    }
   },
   "outputs": [],
   "source": [
    "#Final Combined\n",
    "final_socialiq=toxic.append(nontoxic,ignore_index=True)\n",
    "final_socialiq=final_socialiq.append(nontoxic_balanced,ignore_index=True)\n",
    "\n",
    "final_socialiq.reset_index(drop=True,inplace=True)\n",
    "final_socialiq.shape"
   ]
  },
  {
   "cell_type": "code",
   "execution_count": null,
   "id": "07600231",
   "metadata": {
    "ExecuteTime": {
     "end_time": "2021-09-27T05:02:52.666849Z",
     "start_time": "2021-09-27T05:02:52.644664Z"
    }
   },
   "outputs": [],
   "source": [
    "final_socialiq.to_csv(destination+\"Social-IQ.csv\",index=False)"
   ]
  },
  {
   "cell_type": "code",
   "execution_count": null,
   "id": "3717dc47",
   "metadata": {
    "ExecuteTime": {
     "end_time": "2021-09-27T05:02:54.003124Z",
     "start_time": "2021-09-27T05:02:53.987500Z"
    }
   },
   "outputs": [],
   "source": [
    "final_socialiq['Sentiment'].value_counts()"
   ]
  },
  {
   "cell_type": "markdown",
   "id": "1fbf1323",
   "metadata": {},
   "source": [
    "## VCTK"
   ]
  },
  {
   "cell_type": "code",
   "execution_count": null,
   "id": "d76a3d2b",
   "metadata": {
    "ExecuteTime": {
     "end_time": "2021-09-27T05:02:55.192247Z",
     "start_time": "2021-09-27T05:02:55.076431Z"
    }
   },
   "outputs": [],
   "source": [
    "vctk=pd.read_csv(source+\"VCTK.csv\")\n",
    "vctk.rename(columns={'filename':'FileName'},inplace=True)\n",
    "\n",
    "vctk['Sentiment']=np.where(((vctk['Sentiment Value']>=0.4) & (vctk['Sentiment Value']<=0.6)),\"neutral\",vctk['Sentiment Label'])\n",
    "vctk['Sentiment']=vctk['Sentiment'].str.lower()\n",
    "\n",
    "vctk['Dataset']='VCTK'\n",
    "\n",
    "vctk['Label']=np.where((vctk['Label']==2) ,0,vctk['Label'])\n",
    "vctk=vctk[['FileName','Dataset','text','Label','Sentiment','Toxic Filter']]"
   ]
  },
  {
   "cell_type": "code",
   "execution_count": null,
   "id": "5a8f57ce",
   "metadata": {
    "ExecuteTime": {
     "end_time": "2021-09-27T05:02:55.593513Z",
     "start_time": "2021-09-27T05:02:55.578046Z"
    }
   },
   "outputs": [],
   "source": [
    "vctk['Label'].value_counts()"
   ]
  },
  {
   "cell_type": "code",
   "execution_count": null,
   "id": "9b3b9f96",
   "metadata": {
    "ExecuteTime": {
     "end_time": "2021-09-27T05:02:56.157636Z",
     "start_time": "2021-09-27T05:02:56.079350Z"
    }
   },
   "outputs": [],
   "source": [
    "speaker=vctk['FileName'].str.split('\\\\',expand=True)"
   ]
  },
  {
   "cell_type": "code",
   "execution_count": null,
   "id": "ec7b6f8c",
   "metadata": {
    "ExecuteTime": {
     "end_time": "2021-09-27T05:02:56.828749Z",
     "start_time": "2021-09-27T05:02:56.781872Z"
    }
   },
   "outputs": [],
   "source": [
    "#Toxic Subset\n",
    "toxic=get_toxic(vctk)\n",
    "\n",
    "#Toxic Filtered Non-Toxic Subset\n",
    "nontoxic=get_nontoxic(vctk,toxic.shape[0])\n",
    "\n",
    "#Sentiment Balanced Non Toxic Filtered\n",
    "nontoxic_balanced=get_nontoxic_balanced(vctk,toxic.shape[0])"
   ]
  },
  {
   "cell_type": "code",
   "execution_count": null,
   "id": "e7acc83e",
   "metadata": {
    "ExecuteTime": {
     "end_time": "2021-09-27T05:02:57.547133Z",
     "start_time": "2021-09-27T05:02:57.515848Z"
    }
   },
   "outputs": [],
   "source": [
    "#Final Combined\n",
    "final_vctk=toxic.append(nontoxic,ignore_index=True)\n",
    "final_vctk=final_vctk.append(nontoxic_balanced,ignore_index=True)\n",
    "\n",
    "final_vctk.reset_index(drop=True,inplace=True)\n",
    "final_vctk.shape"
   ]
  },
  {
   "cell_type": "code",
   "execution_count": null,
   "id": "99947a63",
   "metadata": {
    "ExecuteTime": {
     "end_time": "2021-09-27T05:03:00.042893Z",
     "start_time": "2021-09-27T05:03:00.011997Z"
    }
   },
   "outputs": [],
   "source": [
    "final_vctk.to_csv(destination+\"VCTK.csv\",index=False)"
   ]
  },
  {
   "cell_type": "code",
   "execution_count": null,
   "id": "03cf3d64",
   "metadata": {
    "ExecuteTime": {
     "end_time": "2021-09-27T05:03:00.861551Z",
     "start_time": "2021-09-27T05:03:00.830362Z"
    }
   },
   "outputs": [],
   "source": [
    "final_vctk['Sentiment'].value_counts()"
   ]
  },
  {
   "cell_type": "markdown",
   "id": "b471ad49",
   "metadata": {},
   "source": [
    "## Switchboard"
   ]
  },
  {
   "cell_type": "code",
   "execution_count": null,
   "id": "afe1ebf8",
   "metadata": {
    "ExecuteTime": {
     "end_time": "2021-09-27T05:03:02.976630Z",
     "start_time": "2021-09-27T05:03:02.221120Z"
    }
   },
   "outputs": [],
   "source": [
    "swbd=pd.read_csv(source+\"Switchboard.csv\")"
   ]
  },
  {
   "cell_type": "code",
   "execution_count": null,
   "id": "60c2a4d4",
   "metadata": {
    "ExecuteTime": {
     "end_time": "2021-09-27T05:03:02.997052Z",
     "start_time": "2021-09-27T05:03:02.978679Z"
    }
   },
   "outputs": [],
   "source": [
    "swbd.rename(columns={'Filename':'FileName'},inplace=True)"
   ]
  },
  {
   "cell_type": "code",
   "execution_count": null,
   "id": "aee6bca5",
   "metadata": {
    "ExecuteTime": {
     "end_time": "2021-09-27T05:03:03.637202Z",
     "start_time": "2021-09-27T05:03:03.489807Z"
    }
   },
   "outputs": [],
   "source": [
    "swbd['Sentiment']=np.where(((swbd['Sentiment Value']>=0.4) & (swbd['Sentiment Value']<=0.6)),\"neutral\",swbd['Sentiment Labels'])\n",
    "swbd['Sentiment']=swbd['Sentiment'].str.lower()\n",
    "\n",
    "swbd['Dataset']='Switchboard'\n",
    "\n",
    "swbd['Label']=np.where((swbd['Label']==2) ,0,swbd['Label'])\n",
    "swbd=swbd[['FileName','Dataset','text','Label','Trigger','Sentiment','Toxic Filter']]"
   ]
  },
  {
   "cell_type": "code",
   "execution_count": null,
   "id": "a6f09475",
   "metadata": {
    "ExecuteTime": {
     "end_time": "2021-09-27T05:03:04.138230Z",
     "start_time": "2021-09-27T05:03:03.991285Z"
    }
   },
   "outputs": [],
   "source": [
    "#Toxic Subset\n",
    "toxic=get_toxic(swbd)\n",
    "\n",
    "#Toxic Filtered Non-Toxic Subset\n",
    "nontoxic=get_nontoxic(swbd,toxic.shape[0])\n",
    "\n",
    "#Sentiment Balanced Non Toxic Filtered\n",
    "nontoxic_balanced=get_nontoxic_balanced(swbd,toxic.shape[0])"
   ]
  },
  {
   "cell_type": "code",
   "execution_count": null,
   "id": "37eff57d",
   "metadata": {
    "ExecuteTime": {
     "end_time": "2021-09-27T05:03:04.639558Z",
     "start_time": "2021-09-27T05:03:04.623928Z"
    }
   },
   "outputs": [],
   "source": [
    "#Final Combined\n",
    "final_swbd=toxic.append(nontoxic,ignore_index=True)\n",
    "final_swbd=final_swbd.append(nontoxic_balanced,ignore_index=True)\n",
    "\n",
    "final_swbd.reset_index(drop=True,inplace=True)\n",
    "final_swbd.shape"
   ]
  },
  {
   "cell_type": "code",
   "execution_count": null,
   "id": "51d97862",
   "metadata": {
    "ExecuteTime": {
     "end_time": "2021-09-27T05:03:05.140764Z",
     "start_time": "2021-09-27T05:03:05.125139Z"
    }
   },
   "outputs": [],
   "source": [
    "final_swbd.to_csv(destination+\"Switchboard.csv\",index=False)"
   ]
  },
  {
   "cell_type": "code",
   "execution_count": null,
   "id": "48f644db",
   "metadata": {
    "ExecuteTime": {
     "end_time": "2021-09-27T05:03:05.663958Z",
     "start_time": "2021-09-27T05:03:05.641780Z"
    }
   },
   "outputs": [],
   "source": [
    "final_swbd['Sentiment'].value_counts()"
   ]
  },
  {
   "cell_type": "markdown",
   "id": "e6884a5d",
   "metadata": {},
   "source": [
    "## MSP Podcast"
   ]
  },
  {
   "cell_type": "code",
   "execution_count": null,
   "id": "a014563f",
   "metadata": {
    "ExecuteTime": {
     "end_time": "2021-09-27T12:10:37.486949Z",
     "start_time": "2021-09-27T12:10:37.219750Z"
    }
   },
   "outputs": [],
   "source": [
    "msp_podcast=pd.read_csv(source+\"MSP-Podcast.csv\")"
   ]
  },
  {
   "cell_type": "code",
   "execution_count": null,
   "id": "122ff22c",
   "metadata": {
    "ExecuteTime": {
     "end_time": "2021-09-27T12:10:37.618250Z",
     "start_time": "2021-09-27T12:10:37.587009Z"
    }
   },
   "outputs": [],
   "source": [
    "msp_podcast['Split_Set'].value_counts()"
   ]
  },
  {
   "cell_type": "code",
   "execution_count": null,
   "id": "c401f2c3",
   "metadata": {
    "ExecuteTime": {
     "end_time": "2021-09-27T12:10:38.104186Z",
     "start_time": "2021-09-27T12:10:38.088559Z"
    }
   },
   "outputs": [],
   "source": [
    "msp_podcast.rename(columns={'File Name':'FileName'},inplace=True)"
   ]
  },
  {
   "cell_type": "code",
   "execution_count": null,
   "id": "3e1d1512",
   "metadata": {
    "ExecuteTime": {
     "end_time": "2021-09-27T12:10:38.489201Z",
     "start_time": "2021-09-27T12:10:38.435771Z"
    }
   },
   "outputs": [],
   "source": [
    "msp_podcast.head(2)"
   ]
  },
  {
   "cell_type": "code",
   "execution_count": null,
   "id": "5bbbdac6",
   "metadata": {
    "ExecuteTime": {
     "end_time": "2021-09-27T12:10:40.373940Z",
     "start_time": "2021-09-27T12:10:40.311084Z"
    }
   },
   "outputs": [],
   "source": [
    "msp_podcast['Sentiment']=np.where(((msp_podcast['Sentiment Value']>=0.4) & (msp_podcast['Sentiment Value']<=0.6)),\"neutral\",msp_podcast['Sentiment Label'])\n",
    "msp_podcast['Sentiment']=msp_podcast['Sentiment'].str.lower()\n",
    "\n",
    "msp_podcast['Dataset']='MSP-Podcast'\n",
    "\n",
    "msp_podcast['Label']=np.where((msp_podcast['Label']==2) ,0,msp_podcast['Label'])\n",
    "msp_podcast=msp_podcast[['FileName','Dataset','text','Label','Trigger','Sentiment','Toxic Filter','SpkrID']]"
   ]
  },
  {
   "cell_type": "code",
   "execution_count": null,
   "id": "ffaab6f3",
   "metadata": {
    "ExecuteTime": {
     "end_time": "2021-09-27T12:10:52.135965Z",
     "start_time": "2021-09-27T12:10:52.120329Z"
    }
   },
   "outputs": [],
   "source": [
    "msp_podcast['SpkrID'].nunique()"
   ]
  },
  {
   "cell_type": "code",
   "execution_count": null,
   "id": "4f344248",
   "metadata": {
    "ExecuteTime": {
     "end_time": "2021-09-27T12:10:52.514465Z",
     "start_time": "2021-09-27T12:10:52.451964Z"
    }
   },
   "outputs": [],
   "source": [
    "#Toxic Subset\n",
    "toxic=get_toxic(msp_podcast)\n",
    "\n",
    "#Toxic Filtered Non-Toxic Subset\n",
    "nontoxic=get_nontoxic(msp_podcast,toxic.shape[0])\n",
    "\n",
    "#Sentiment Balanced Non Toxic Filtered\n",
    "nontoxic_balanced=get_nontoxic_balanced(msp_podcast,toxic.shape[0])"
   ]
  },
  {
   "cell_type": "code",
   "execution_count": null,
   "id": "3d6a2b82",
   "metadata": {
    "ExecuteTime": {
     "end_time": "2021-09-27T12:11:10.245833Z",
     "start_time": "2021-09-27T12:11:10.230170Z"
    }
   },
   "outputs": [],
   "source": [
    "#Final Combined\n",
    "final_podcast=toxic.append(nontoxic,ignore_index=True)\n",
    "final_podcast=final_podcast.append(nontoxic_balanced,ignore_index=True)\n",
    "\n",
    "final_podcast.reset_index(drop=True,inplace=True)\n",
    "final_podcast.shape"
   ]
  },
  {
   "cell_type": "code",
   "execution_count": null,
   "id": "d242b309",
   "metadata": {
    "ExecuteTime": {
     "end_time": "2021-09-27T12:11:10.562155Z",
     "start_time": "2021-09-27T12:11:10.546496Z"
    }
   },
   "outputs": [],
   "source": [
    "final_podcast['Sentiment'].value_counts()"
   ]
  },
  {
   "cell_type": "code",
   "execution_count": null,
   "id": "3005d30b",
   "metadata": {
    "ExecuteTime": {
     "end_time": "2021-09-27T12:11:10.885240Z",
     "start_time": "2021-09-27T12:11:10.863060Z"
    }
   },
   "outputs": [],
   "source": [
    "final_podcast['text']=final_podcast['text'].str.lower()"
   ]
  },
  {
   "cell_type": "code",
   "execution_count": null,
   "id": "0b1244bc",
   "metadata": {
    "ExecuteTime": {
     "end_time": "2021-09-27T12:11:11.201746Z",
     "start_time": "2021-09-27T12:11:11.186107Z"
    }
   },
   "outputs": [],
   "source": [
    "final_podcast['SpkrID'].nunique()"
   ]
  },
  {
   "cell_type": "code",
   "execution_count": null,
   "id": "2f84f893",
   "metadata": {
    "ExecuteTime": {
     "end_time": "2021-09-27T12:11:12.553048Z",
     "start_time": "2021-09-27T12:11:12.522156Z"
    }
   },
   "outputs": [],
   "source": [
    "final_podcast.head(2)"
   ]
  },
  {
   "cell_type": "code",
   "execution_count": null,
   "id": "d1e38bd6",
   "metadata": {
    "ExecuteTime": {
     "end_time": "2021-09-27T12:11:12.769431Z",
     "start_time": "2021-09-27T12:11:12.753775Z"
    }
   },
   "outputs": [],
   "source": [
    "final_podcast.shape"
   ]
  },
  {
   "cell_type": "code",
   "execution_count": null,
   "id": "a5c2d211",
   "metadata": {
    "ExecuteTime": {
     "end_time": "2021-09-27T12:11:13.255431Z",
     "start_time": "2021-09-27T12:11:13.224172Z"
    }
   },
   "outputs": [],
   "source": [
    "final_podcast.to_csv(destination+\"MSP-Podcast.csv\",index=False)"
   ]
  },
  {
   "cell_type": "markdown",
   "id": "f24b40fa",
   "metadata": {
    "ExecuteTime": {
     "end_time": "2021-09-16T05:55:27.488097Z",
     "start_time": "2021-09-16T05:55:27.469156Z"
    }
   },
   "source": [
    "### Combining all Transcripts"
   ]
  },
  {
   "cell_type": "code",
   "execution_count": null,
   "id": "a4e397f9",
   "metadata": {
    "ExecuteTime": {
     "end_time": "2021-09-30T04:20:39.005928Z",
     "start_time": "2021-09-30T04:20:38.978329Z"
    }
   },
   "outputs": [],
   "source": [
    "files=os.listdir(destination)"
   ]
  },
  {
   "cell_type": "code",
   "execution_count": null,
   "id": "f8015e99",
   "metadata": {
    "ExecuteTime": {
     "end_time": "2021-09-27T13:35:43.675187Z",
     "start_time": "2021-09-27T13:35:43.647152Z"
    }
   },
   "outputs": [],
   "source": [
    "combined_df=pd.DataFrame()\n",
    "combined_df[['Dataset','FileName','text','label2a','Trigger','Sentiment','Toxic Filter','split']]=np.nan"
   ]
  },
  {
   "cell_type": "code",
   "execution_count": null,
   "id": "1c70d2eb",
   "metadata": {
    "ExecuteTime": {
     "end_time": "2021-09-27T13:35:44.275074Z",
     "start_time": "2021-09-27T13:35:43.858434Z"
    }
   },
   "outputs": [],
   "source": [
    "for i in range(len(files)):\n",
    "    temp=pd.read_csv(destination+files[i])\n",
    "    temp=temp.filter(['Dataset','FileName','text','Label','Trigger','Sentiment','Toxic Filter'])\n",
    "    split_temp=get_split(temp)\n",
    "    combined_df=combined_df.append(split_temp)\n",
    "    \n",
    "combined_df.reset_index(drop=True,inplace=True)"
   ]
  },
  {
   "cell_type": "code",
   "execution_count": null,
   "id": "9f185257",
   "metadata": {
    "ExecuteTime": {
     "end_time": "2021-09-27T13:35:44.275074Z",
     "start_time": "2021-09-27T13:35:44.031Z"
    }
   },
   "outputs": [],
   "source": [
    "combined_df['Dataset'].value_counts()"
   ]
  },
  {
   "cell_type": "code",
   "execution_count": null,
   "id": "5a5c417f",
   "metadata": {
    "ExecuteTime": {
     "end_time": "2021-09-27T13:35:44.275074Z",
     "start_time": "2021-09-27T13:35:44.194Z"
    }
   },
   "outputs": [],
   "source": [
    "combined_df['Trigger'].fillna(0,inplace=True)"
   ]
  },
  {
   "cell_type": "code",
   "execution_count": null,
   "id": "5011890f",
   "metadata": {
    "ExecuteTime": {
     "end_time": "2021-09-27T12:12:32.726654Z",
     "start_time": "2021-09-27T12:12:32.657717Z"
    }
   },
   "outputs": [],
   "source": [
    "combined_df['FileName']=combined_df['FileName'].str.replace('.wav','')\n",
    "combined_df['FileName']=combined_df['FileName'].str.replace('.mp3','')\n",
    "combined_df['FileName']=combined_df['FileName'].str.replace('.txt','')"
   ]
  },
  {
   "cell_type": "code",
   "execution_count": null,
   "id": "beaee685",
   "metadata": {
    "ExecuteTime": {
     "end_time": "2021-09-27T12:12:34.092867Z",
     "start_time": "2021-09-27T12:12:34.077211Z"
    },
    "scrolled": true
   },
   "outputs": [],
   "source": [
    "combined_df[combined_df['split']==0]['label2a'].value_counts()"
   ]
  },
  {
   "cell_type": "code",
   "execution_count": null,
   "id": "4ce59d07",
   "metadata": {
    "ExecuteTime": {
     "end_time": "2021-09-27T12:12:35.915245Z",
     "start_time": "2021-09-27T12:12:35.884301Z"
    }
   },
   "outputs": [],
   "source": [
    "#Dev and Test\n",
    "dev=combined_df[combined_df['split']==1]\n",
    "dev.reset_index(drop=True,inplace=True)\n",
    "\n",
    "test=combined_df[combined_df['split']==2]\n",
    "test.reset_index(drop=True,inplace=True)"
   ]
  },
  {
   "cell_type": "code",
   "execution_count": null,
   "id": "1dffbb2c",
   "metadata": {
    "ExecuteTime": {
     "end_time": "2021-09-27T12:12:36.485459Z",
     "start_time": "2021-09-27T12:12:36.454173Z"
    }
   },
   "outputs": [],
   "source": [
    "combined_df=pd.DataFrame()\n",
    "combined_df=final_train.append(dev)\n",
    "combined_df=combined_df.append(test)\n",
    "combined_df.reset_index(drop=True,inplace=True)"
   ]
  },
  {
   "cell_type": "code",
   "execution_count": null,
   "id": "39b0d85a",
   "metadata": {
    "ExecuteTime": {
     "end_time": "2021-09-27T12:12:36.955962Z",
     "start_time": "2021-09-27T12:12:36.940304Z"
    }
   },
   "outputs": [],
   "source": [
    "combined_df[combined_df['split']==0]['label2a'].value_counts()"
   ]
  },
  {
   "cell_type": "code",
   "execution_count": null,
   "id": "66d4b6f5",
   "metadata": {
    "ExecuteTime": {
     "end_time": "2021-09-27T12:12:38.560540Z",
     "start_time": "2021-09-27T12:12:38.529245Z"
    }
   },
   "outputs": [],
   "source": [
    "combined_df[combined_df['split']==1]['label2a'].value_counts()"
   ]
  },
  {
   "cell_type": "code",
   "execution_count": null,
   "id": "daa6b6e2",
   "metadata": {
    "ExecuteTime": {
     "end_time": "2021-09-27T12:12:39.024123Z",
     "start_time": "2021-09-27T12:12:38.992837Z"
    }
   },
   "outputs": [],
   "source": [
    "combined_df[combined_df['split']==2]['label2a'].value_counts()"
   ]
  },
  {
   "cell_type": "code",
   "execution_count": null,
   "id": "7161e7c0",
   "metadata": {},
   "outputs": [],
   "source": [
    "#Exporting Final Dataset\n",
    "combined_df.to_csv(destination+\"DeToxy.csv\",index=False)"
   ]
  },
  {
   "cell_type": "code",
   "execution_count": null,
   "id": "99c47ddb",
   "metadata": {
    "ExecuteTime": {
     "end_time": "2021-09-27T12:12:39.911387Z",
     "start_time": "2021-09-27T12:12:39.832924Z"
    }
   },
   "outputs": [],
   "source": [
    "#To Split onto different files\n",
    "final_train.to_csv(\"Train.csv\",index=False)\n",
    "dev.to_csv(\"valid.csv\",index=False)\n",
    "test.to_csv(\"test.csv\",index=False)"
   ]
  }
 ],
 "metadata": {
  "interpreter": {
   "hash": "56e0a9a463d3130cf78e131635e7c390a034a1e2e9e36fc387e6f405e0f7402b"
  },
  "kernelspec": {
   "display_name": "Python 3.6.13 64-bit ('Work': conda)",
   "name": "python3"
  },
  "language_info": {
   "codemirror_mode": {
    "name": "ipython",
    "version": 3
   },
   "file_extension": ".py",
   "mimetype": "text/x-python",
   "name": "python",
   "nbconvert_exporter": "python",
   "pygments_lexer": "ipython3",
   "version": "3.6.13"
  }
 },
 "nbformat": 4,
 "nbformat_minor": 5
}
