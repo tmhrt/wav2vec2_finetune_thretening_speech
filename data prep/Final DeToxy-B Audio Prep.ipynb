{
 "cells": [
  {
   "cell_type": "code",
   "execution_count": 1,
   "id": "b79551ee",
   "metadata": {
    "ExecuteTime": {
     "end_time": "2021-10-01T02:32:07.681553Z",
     "start_time": "2021-10-01T02:31:02.877579Z"
    }
   },
   "outputs": [],
   "source": [
    "#ETL Libraries\n",
    "import pandas as pd\n",
    "import numpy as np\n",
    "\n",
    "#Visualization Libraries\n",
    "import matplotlib.pyplot as plt\n",
    "import seaborn as sns\n",
    "\n",
    "#To Ignore Warnings\n",
    "import warnings\n",
    "warnings.filterwarnings('ignore')\n",
    "\n",
    "#Statistical Packages\n",
    "from scipy import stats\n",
    "from scipy.stats import norm, skew\n",
    "\n",
    "#Tar File Extraction\n",
    "import tarfile\n",
    "\n",
    "#Importing os package\n",
    "import os\n",
    "import shutil\n",
    "from shutil import copyfile\n",
    "\n",
    "\n",
    "#Audio Python Files\n",
    "from os import path\n",
    "from pydub import AudioSegment\n",
    "\n",
    "#Importing Zip file\n",
    "from zipfile import ZipFile\n",
    "\n",
    "#Audio\n",
    "import librosa"
   ]
  },
  {
   "cell_type": "code",
   "execution_count": null,
   "id": "26c6af5b",
   "metadata": {},
   "outputs": [],
   "source": [
    "#Setting Paths\n",
    "destination='Detoxy-B/Audio/'\n",
    "final_destination='Detoxy-B/Final_Audio/'"
   ]
  },
  {
   "cell_type": "code",
   "execution_count": 2,
   "id": "4d17eb94",
   "metadata": {
    "ExecuteTime": {
     "end_time": "2021-10-01T02:32:07.982562Z",
     "start_time": "2021-10-01T02:32:07.681553Z"
    }
   },
   "outputs": [],
   "source": [
    "#Importing Transcript File\n",
    "transcript=pd.read_csv(\"Detoxy-B/Transcripts/DeToxy.csv\")"
   ]
  },
  {
   "cell_type": "markdown",
   "id": "894cd699",
   "metadata": {},
   "source": [
    "## MELD"
   ]
  },
  {
   "cell_type": "code",
   "execution_count": 17,
   "id": "76554245",
   "metadata": {
    "ExecuteTime": {
     "end_time": "2021-09-27T12:17:19.399544Z",
     "start_time": "2021-09-27T12:17:19.387488Z"
    }
   },
   "outputs": [],
   "source": [
    "#Meld wav file path\n",
    "source='Data/MELD/MELD wav/'"
   ]
  },
  {
   "cell_type": "code",
   "execution_count": 19,
   "id": "a6cc5a25",
   "metadata": {
    "ExecuteTime": {
     "end_time": "2021-09-27T12:17:20.014311Z",
     "start_time": "2021-09-27T12:17:19.998315Z"
    }
   },
   "outputs": [],
   "source": [
    "#Getting List of MELD file names\n",
    "selected_files=transcript[transcript['Dataset']=='MELD']['FileName'].unique()\n",
    "selected_files=list(selected_files)"
   ]
  },
  {
   "cell_type": "code",
   "execution_count": 20,
   "id": "96e72df1",
   "metadata": {
    "ExecuteTime": {
     "end_time": "2021-09-27T12:17:21.080079Z",
     "start_time": "2021-09-27T12:17:20.367655Z"
    }
   },
   "outputs": [],
   "source": [
    "#Moving Files to final location\n",
    "for i in range(len(selected_files)):\n",
    "    shutil.copy2(source+selected_files[i]+\".wav\", destination)"
   ]
  },
  {
   "cell_type": "markdown",
   "id": "5cd2fb93",
   "metadata": {},
   "source": [
    "## Common Voice"
   ]
  },
  {
   "cell_type": "code",
   "execution_count": 21,
   "id": "9e8ad304",
   "metadata": {
    "ExecuteTime": {
     "end_time": "2021-09-27T12:17:29.225934Z",
     "start_time": "2021-09-27T12:17:29.203768Z"
    }
   },
   "outputs": [],
   "source": [
    "# Common Voice file Path\n",
    "source='Data/Common Voice/'"
   ]
  },
  {
   "cell_type": "code",
   "execution_count": 22,
   "id": "8fbe4db7",
   "metadata": {
    "ExecuteTime": {
     "end_time": "2021-09-27T12:17:29.542288Z",
     "start_time": "2021-09-27T12:17:29.526671Z"
    }
   },
   "outputs": [],
   "source": [
    "#Opening Tar File\n",
    "int_dest=source+'Audio Files - Required/'\n",
    "tar = tarfile.open(source+\"en.tar.gz\")"
   ]
  },
  {
   "cell_type": "code",
   "execution_count": 23,
   "id": "079c2f32",
   "metadata": {
    "ExecuteTime": {
     "end_time": "2021-09-27T12:17:33.171636Z",
     "start_time": "2021-09-27T12:17:33.140720Z"
    }
   },
   "outputs": [],
   "source": [
    "#Getting List of Common Voice file names\n",
    "selected_files=transcript[transcript['Dataset']=='Common Voice']['FileName'].unique()\n",
    "selected_files=list(selected_files)"
   ]
  },
  {
   "cell_type": "code",
   "execution_count": 24,
   "id": "0eeea53b",
   "metadata": {
    "ExecuteTime": {
     "end_time": "2021-09-27T12:43:22.893075Z",
     "start_time": "2021-09-27T12:17:46.520681Z"
    }
   },
   "outputs": [],
   "source": [
    "#Extracting required files\n",
    "file_names = [\"cv-corpus-6.1-2020-12-11/en/clips/\" + suit+\".mp3\" for suit in selected_files]\n",
    "tar.extractall(members=[x for x in tar.getmembers() if x.name in file_names],path=int_dest)"
   ]
  },
  {
   "cell_type": "code",
   "execution_count": 25,
   "id": "0985e11c",
   "metadata": {
    "ExecuteTime": {
     "end_time": "2021-09-27T12:43:22.909033Z",
     "start_time": "2021-09-27T12:43:22.893075Z"
    }
   },
   "outputs": [],
   "source": [
    "#Setting new source path\n",
    "source='Common Voice/Audio Files - Required/cv-corpus-6.1-2020-12-11/en/clips/'"
   ]
  },
  {
   "cell_type": "code",
   "execution_count": null,
   "id": "2f162bbb",
   "metadata": {},
   "outputs": [],
   "source": [
    "from os import path\n",
    "from pydub import AudioSegment"
   ]
  },
  {
   "cell_type": "code",
   "execution_count": 28,
   "id": "d4798943",
   "metadata": {
    "ExecuteTime": {
     "end_time": "2021-09-27T13:02:09.586234Z",
     "start_time": "2021-09-27T12:43:22.941052Z"
    }
   },
   "outputs": [],
   "source": [
    "# convert mp3 to wav\n",
    "\n",
    "files=os.listdir(source)\n",
    "\n",
    "for i in range(len(files)):\n",
    "    sound = AudioSegment.from_mp3(source+files[i])\n",
    "    sound.export(int_dest+\"Wav Files/\"+files[i][:-3]+\"wav\", format=\"wav\")"
   ]
  },
  {
   "cell_type": "code",
   "execution_count": 29,
   "id": "4f0ef080",
   "metadata": {
    "ExecuteTime": {
     "end_time": "2021-09-27T13:02:59.605104Z",
     "start_time": "2021-09-27T13:02:09.586234Z"
    }
   },
   "outputs": [],
   "source": [
    "#Moving to Detoxy Folder\n",
    "files=os.listdir(int_dest+\"Wav Files/\")\n",
    "\n",
    "for i in range(len(files)):\n",
    "    shutil.copy2(int_dest+\"Wav Files/\"+files[i], destination)"
   ]
  },
  {
   "cell_type": "markdown",
   "id": "f1e1d27b",
   "metadata": {},
   "source": [
    "## LJ Speech"
   ]
  },
  {
   "cell_type": "code",
   "execution_count": 33,
   "id": "6600386f",
   "metadata": {
    "ExecuteTime": {
     "end_time": "2021-09-27T13:08:09.494572Z",
     "start_time": "2021-09-27T13:08:09.478936Z"
    }
   },
   "outputs": [],
   "source": [
    "#Setting LJ Speech Path\n",
    "source='Data/LJSpeech/LJSpeech-1.1/wavs/'"
   ]
  },
  {
   "cell_type": "code",
   "execution_count": 34,
   "id": "1db84b38",
   "metadata": {
    "ExecuteTime": {
     "end_time": "2021-09-27T13:08:11.200188Z",
     "start_time": "2021-09-27T13:08:11.162344Z"
    }
   },
   "outputs": [],
   "source": [
    "#Getting List of LJ Speech file names\n",
    "selected_files=transcript[transcript['Dataset']=='LJ Speech']['FileName'].unique()\n",
    "selected_files=list(selected_files)"
   ]
  },
  {
   "cell_type": "code",
   "execution_count": 35,
   "id": "acb1ddcb",
   "metadata": {
    "ExecuteTime": {
     "end_time": "2021-09-27T13:08:22.893719Z",
     "start_time": "2021-09-27T13:08:20.403150Z"
    }
   },
   "outputs": [],
   "source": [
    "#Moving Files to final location\n",
    "for i in range(len(selected_files)):\n",
    "    shutil.copy2(source+selected_files[i]+\".wav\", destination)"
   ]
  },
  {
   "cell_type": "markdown",
   "id": "03a6ba45",
   "metadata": {},
   "source": [
    "## VCTK"
   ]
  },
  {
   "cell_type": "code",
   "execution_count": 40,
   "id": "0f2a8c6b",
   "metadata": {
    "ExecuteTime": {
     "end_time": "2021-09-27T13:09:08.306528Z",
     "start_time": "2021-09-27T13:09:08.291239Z"
    }
   },
   "outputs": [],
   "source": [
    "#Setting source path\n",
    "source='Data/VCTK/'"
   ]
  },
  {
   "cell_type": "code",
   "execution_count": 41,
   "id": "a84567b3",
   "metadata": {
    "ExecuteTime": {
     "end_time": "2021-09-27T13:09:10.213098Z",
     "start_time": "2021-09-27T13:09:10.181887Z"
    }
   },
   "outputs": [],
   "source": [
    "#Importing VCTK Transcript File\n",
    "vctk=pd.read_csv(\"Data/Detoxy-B/Transcripts/VCTK.csv\")"
   ]
  },
  {
   "cell_type": "code",
   "execution_count": 47,
   "id": "3c29beb7",
   "metadata": {
    "ExecuteTime": {
     "end_time": "2021-09-27T13:12:50.166978Z",
     "start_time": "2021-09-27T13:12:49.147974Z"
    }
   },
   "outputs": [],
   "source": [
    "#Creating Combined (path + filename) \n",
    "files=vctk['OriginalFileName'].str.split('\\\\',expand=True)\n",
    "files[2]=files[2].str.replace('.txt','_mic1.flac')\n",
    "files[0]='wav48_silence_trimmed'\n",
    "files['Combined']=files[0]+\"/\"+files[1]+\"/\"+files[2]"
   ]
  },
  {
   "cell_type": "code",
   "execution_count": 49,
   "id": "306034d6",
   "metadata": {
    "ExecuteTime": {
     "end_time": "2021-09-27T13:12:59.475574Z",
     "start_time": "2021-09-27T13:12:59.460298Z"
    }
   },
   "outputs": [],
   "source": [
    "#Getting List of VCTK file names\n",
    "selected_files=files['Combined'].unique()\n",
    "selected_files=list(selected_files)"
   ]
  },
  {
   "cell_type": "code",
   "execution_count": 52,
   "id": "6dd6071a",
   "metadata": {
    "ExecuteTime": {
     "end_time": "2021-09-27T13:17:53.286803Z",
     "start_time": "2021-09-27T13:14:41.286753Z"
    }
   },
   "outputs": [],
   "source": [
    "#Extracting the required Audio Files\n",
    "int_dest='Data/VCTK/VCTK Original/'\n",
    "\n",
    "for i in range(len(selected_files)):\n",
    "    with ZipFile(source+'VCTK-Corpus-0.92.zip', 'r') as zipObj:\n",
    "        zipObj.extract(selected_files[i],int_dest)    \n",
    "        zipObj.close()"
   ]
  },
  {
   "cell_type": "code",
   "execution_count": 55,
   "id": "fcfaed05",
   "metadata": {
    "ExecuteTime": {
     "end_time": "2021-09-27T13:18:22.908459Z",
     "start_time": "2021-09-27T13:18:21.759145Z"
    }
   },
   "outputs": [],
   "source": [
    "#Moving all files from subfolders into one final directory.\n",
    "\n",
    "source='Data/VCTK/VCTK Original/wav48_silence_trimmed/'\n",
    "int_destination='Data/VCTK/VCTK Original/Taken Out/'\n",
    "\n",
    "for root, dirs, files in os.walk(source):  # replace the . with your starting directory\n",
    "    for file in files:\n",
    "      path_file = os.path.join(root,file)\n",
    "      shutil.copy2(path_file,int_destination) # change you destination dir"
   ]
  },
  {
   "cell_type": "markdown",
   "id": "fb12c3df",
   "metadata": {},
   "source": [
    "### Converting from .flac to .wav"
   ]
  },
  {
   "cell_type": "code",
   "execution_count": 56,
   "id": "d9243cd2",
   "metadata": {
    "ExecuteTime": {
     "end_time": "2021-09-27T13:18:28.194753Z",
     "start_time": "2021-09-27T13:18:28.156927Z"
    }
   },
   "outputs": [],
   "source": [
    "from pydub import AudioSegment\n",
    "\n",
    "source='VCTK/VCTK Original/Taken Out/'\n",
    "int_destination='Data/VCTK/VCTK Wavs/'"
   ]
  },
  {
   "cell_type": "code",
   "execution_count": 59,
   "id": "868e1e29",
   "metadata": {
    "ExecuteTime": {
     "end_time": "2021-09-27T13:19:41.072949Z",
     "start_time": "2021-09-27T13:19:16.784145Z"
    }
   },
   "outputs": [],
   "source": [
    "#Getting file names\n",
    "flac_files = [f for f in os.listdir(source) if f.endswith('.flac')]\n",
    "\n",
    "for i in range(len(flac_files)):\n",
    "    song=AudioSegment.from_file(source+flac_files[i])\n",
    "    song.export(int_destination+flac_files[i][:-4]+\"wav\",format = \"wav\")"
   ]
  },
  {
   "cell_type": "markdown",
   "id": "aebb7573",
   "metadata": {
    "ExecuteTime": {
     "end_time": "2021-09-19T04:30:34.016369Z",
     "start_time": "2021-09-19T04:30:09.759954Z"
    }
   },
   "source": [
    "### Moving to the final destination"
   ]
  },
  {
   "cell_type": "code",
   "execution_count": 60,
   "id": "d6b528c5",
   "metadata": {
    "ExecuteTime": {
     "end_time": "2021-09-27T13:19:46.318441Z",
     "start_time": "2021-09-27T13:19:46.302815Z"
    }
   },
   "outputs": [],
   "source": [
    "source='Data/VCTK/VCTK Wavs/'"
   ]
  },
  {
   "cell_type": "code",
   "execution_count": 61,
   "id": "88b81457",
   "metadata": {
    "ExecuteTime": {
     "end_time": "2021-09-27T13:19:46.688132Z",
     "start_time": "2021-09-27T13:19:46.672794Z"
    }
   },
   "outputs": [],
   "source": [
    "files=os.listdir(source)"
   ]
  },
  {
   "cell_type": "code",
   "execution_count": 63,
   "id": "b6f2cbb4",
   "metadata": {
    "ExecuteTime": {
     "end_time": "2021-09-27T13:20:08.680663Z",
     "start_time": "2021-09-27T13:20:07.895341Z"
    }
   },
   "outputs": [],
   "source": [
    "for i in range(len(files)):\n",
    "    shutil.copy2(source+files[i], destination)"
   ]
  },
  {
   "cell_type": "markdown",
   "id": "38d942ef",
   "metadata": {},
   "source": [
    "## IEMOCAP"
   ]
  },
  {
   "cell_type": "code",
   "execution_count": 82,
   "id": "9c39537c",
   "metadata": {
    "ExecuteTime": {
     "end_time": "2021-09-27T13:31:40.275559Z",
     "start_time": "2021-09-27T13:31:40.244300Z"
    }
   },
   "outputs": [],
   "source": [
    "source='iemocap/Audio Files/IEMOCAP_full_release/'\n",
    "int_dest='iemocap/Audio Files/Required Wav Files/'"
   ]
  },
  {
   "cell_type": "code",
   "execution_count": 84,
   "id": "cefc0d33",
   "metadata": {
    "ExecuteTime": {
     "end_time": "2021-09-27T13:31:40.962031Z",
     "start_time": "2021-09-27T13:31:40.892863Z"
    }
   },
   "outputs": [],
   "source": [
    "iemocap_b=pd.read_csv(\"Detoxy-B/Transcripts/IEMOCAP.csv\")\n",
    "iemocap_full=pd.read_csv(\"Datasets/iemocap.csv\")\n",
    "iemocap_full=iemocap_full[['FileName','Session']]\n",
    "iemocap=pd.merge(iemocap_b,iemocap_full,on=['FileName'],how='left')"
   ]
  },
  {
   "cell_type": "code",
   "execution_count": 85,
   "id": "5f999d60",
   "metadata": {
    "ExecuteTime": {
     "end_time": "2021-09-27T13:31:41.441067Z",
     "start_time": "2021-09-27T13:31:41.278239Z"
    }
   },
   "outputs": [],
   "source": [
    "#Creating combined path (path + filename)\n",
    "\n",
    "file=iemocap[['FileName','Session']].copy()\n",
    "file['Session']=\"Session\"+file['Session'].map(str)\n",
    "\n",
    "file['path']=file['FileName']\n",
    "\n",
    "for i in range(file.shape[0]):\n",
    "    temp=file['path'].iloc[i].split('_')\n",
    "    temp='_'.join(temp[:-1])\n",
    "    file['path'].iloc[i]=temp\n",
    "    \n",
    "file['Combined path']=file['Session']+\"/sentences/wav/\"+file['path']+\"/\"+file['FileName']+'.wav'"
   ]
  },
  {
   "cell_type": "code",
   "execution_count": 86,
   "id": "be5bccf8",
   "metadata": {
    "ExecuteTime": {
     "end_time": "2021-09-27T13:31:45.522689Z",
     "start_time": "2021-09-27T13:31:45.507108Z"
    }
   },
   "outputs": [],
   "source": [
    "selected_files=file['Combined path'].unique()\n",
    "selected_files=list(selected_files)"
   ]
  },
  {
   "cell_type": "code",
   "execution_count": 87,
   "id": "1b3637a6",
   "metadata": {
    "ExecuteTime": {
     "end_time": "2021-09-27T13:31:47.732594Z",
     "start_time": "2021-09-27T13:31:45.877111Z"
    }
   },
   "outputs": [],
   "source": [
    "#Moving audio files\n",
    "for i in range(len(selected_files)):\n",
    "    shutil.copy2(source+selected_files[i], int_dest)"
   ]
  },
  {
   "cell_type": "markdown",
   "id": "75515289",
   "metadata": {},
   "source": [
    "## MSP-IMPROV"
   ]
  },
  {
   "cell_type": "code",
   "execution_count": 99,
   "id": "73bcee27",
   "metadata": {
    "ExecuteTime": {
     "end_time": "2021-09-27T13:39:42.395234Z",
     "start_time": "2021-09-27T13:39:42.383181Z"
    }
   },
   "outputs": [],
   "source": [
    "source='MSP-Improv/All Audio Files/'\n",
    "int_dest='MSP-Improv/Required Audio Files/'"
   ]
  },
  {
   "cell_type": "code",
   "execution_count": 101,
   "id": "2eb205a7",
   "metadata": {
    "ExecuteTime": {
     "end_time": "2021-09-27T13:39:42.968021Z",
     "start_time": "2021-09-27T13:39:42.955990Z"
    }
   },
   "outputs": [],
   "source": [
    "msp_improv=transcript[transcript['Dataset']=='MSP-Improv']\n",
    "msp_improv.reset_index(drop=True,inplace=True)"
   ]
  },
  {
   "cell_type": "code",
   "execution_count": 104,
   "id": "580cdcc8",
   "metadata": {
    "ExecuteTime": {
     "end_time": "2021-09-27T13:39:48.577067Z",
     "start_time": "2021-09-27T13:39:48.485041Z"
    }
   },
   "outputs": [],
   "source": [
    "#Creating path (path + filename)\n",
    "temp=msp_improv['FileName'].str.split('-',expand=True)\n",
    "temp['Session']=np.nan\n",
    "for i in range(temp.shape[0]):\n",
    "    temp['Session'].iloc[i]='session'+str(temp[3].iloc[i][-1:])\n",
    "    \n",
    "temp['Path']=temp['Session']+\"/\"+temp[2]+\"/\"+temp[4]\n",
    "msp_improv['path']=temp['Path']"
   ]
  },
  {
   "cell_type": "code",
   "execution_count": 106,
   "id": "26f01d1e",
   "metadata": {
    "ExecuteTime": {
     "end_time": "2021-09-27T13:39:50.565526Z",
     "start_time": "2021-09-27T13:39:50.557528Z"
    }
   },
   "outputs": [],
   "source": [
    "msp_improv['FileName']=msp_improv['FileName'].str.replace('.txt','.wav')\n",
    "msp_improv['path']=msp_improv['path']+\"/\"+msp_improv['FileName']"
   ]
  },
  {
   "cell_type": "code",
   "execution_count": 107,
   "id": "77cc54ea",
   "metadata": {
    "ExecuteTime": {
     "end_time": "2021-09-27T13:39:55.736993Z",
     "start_time": "2021-09-27T13:39:55.732983Z"
    }
   },
   "outputs": [],
   "source": [
    "selected_files=msp_improv['path'].unique()\n",
    "selected_files=list(selected_files)"
   ]
  },
  {
   "cell_type": "code",
   "execution_count": 109,
   "id": "3dfd0364",
   "metadata": {
    "ExecuteTime": {
     "end_time": "2021-09-27T13:40:51.782437Z",
     "start_time": "2021-09-27T13:40:14.674198Z"
    }
   },
   "outputs": [],
   "source": [
    "#Moving files into intermediate location\n",
    "for i in range(0,len(selected_files)):\n",
    "    shutil.copy2(source+selected_files[i], int_dest)"
   ]
  },
  {
   "cell_type": "code",
   "execution_count": 110,
   "id": "05296c20",
   "metadata": {
    "ExecuteTime": {
     "end_time": "2021-09-27T13:41:13.258282Z",
     "start_time": "2021-09-27T13:40:51.782437Z"
    }
   },
   "outputs": [],
   "source": [
    "#Moving into Final DeToxy Location\n",
    "files=os.listdir(int_dest)\n",
    "\n",
    "for i in range(0,len(files)):\n",
    "    shutil.copy2(int_dest+files[i], destination)"
   ]
  },
  {
   "cell_type": "markdown",
   "id": "3aad096b",
   "metadata": {},
   "source": [
    "## Switchboard"
   ]
  },
  {
   "cell_type": "code",
   "execution_count": 111,
   "id": "1b3e1173",
   "metadata": {
    "ExecuteTime": {
     "end_time": "2021-09-27T13:41:52.911907Z",
     "start_time": "2021-09-27T13:41:52.615919Z"
    }
   },
   "outputs": [],
   "source": [
    "source='Data/Switchboard/Audio Files/switch_board_needed/'\n",
    "files=os.listdir(source)"
   ]
  },
  {
   "cell_type": "code",
   "execution_count": 112,
   "id": "77a6860d",
   "metadata": {
    "ExecuteTime": {
     "end_time": "2021-09-27T13:41:53.038006Z",
     "start_time": "2021-09-27T13:41:53.030972Z"
    }
   },
   "outputs": [],
   "source": [
    "switchboard=transcript[transcript['Dataset']=='Switchboard']\n",
    "switchboard.reset_index(drop=True,inplace=True)"
   ]
  },
  {
   "cell_type": "code",
   "execution_count": 113,
   "id": "9a53a098",
   "metadata": {
    "ExecuteTime": {
     "end_time": "2021-09-27T13:41:53.532260Z",
     "start_time": "2021-09-27T13:41:53.527228Z"
    }
   },
   "outputs": [],
   "source": [
    "#Getting required filenames\n",
    "selected_files=switchboard['FileName'].unique()\n",
    "selected_files=list(selected_files)"
   ]
  },
  {
   "cell_type": "code",
   "execution_count": 114,
   "id": "2d149ea5",
   "metadata": {
    "ExecuteTime": {
     "end_time": "2021-09-27T13:43:16.573759Z",
     "start_time": "2021-09-27T13:41:54.005430Z"
    }
   },
   "outputs": [],
   "source": [
    "#Moving files into final location\n",
    "for i in range(0,len(selected_files)):\n",
    "    shutil.copy2(source+selected_files[i]+\".wav\", destination)"
   ]
  },
  {
   "cell_type": "markdown",
   "id": "82ca09cf",
   "metadata": {},
   "source": [
    "## CMU MOSEI"
   ]
  },
  {
   "cell_type": "code",
   "execution_count": 116,
   "id": "c7f0f411",
   "metadata": {
    "ExecuteTime": {
     "end_time": "2021-09-27T13:44:04.620802Z",
     "start_time": "2021-09-27T13:44:04.604803Z"
    }
   },
   "outputs": [],
   "source": [
    "source='Data/mosei/'\n",
    "int_dest='Data/mosei/Required Audio Files/'"
   ]
  },
  {
   "cell_type": "code",
   "execution_count": 117,
   "id": "3f90dfcf",
   "metadata": {
    "ExecuteTime": {
     "end_time": "2021-09-27T13:44:05.136326Z",
     "start_time": "2021-09-27T13:44:05.124326Z"
    }
   },
   "outputs": [],
   "source": [
    "mosei_raw=pd.read_csv(\"Data/Detoxy-B/Transcripts/CMU-MOSEI.csv\")"
   ]
  },
  {
   "cell_type": "code",
   "execution_count": 118,
   "id": "e73796cf",
   "metadata": {
    "ExecuteTime": {
     "end_time": "2021-09-27T13:44:05.521903Z",
     "start_time": "2021-09-27T13:44:05.509904Z"
    }
   },
   "outputs": [],
   "source": [
    "#Getting Original File names\n",
    "selected_files=mosei_raw['OriginalFileName'].unique()\n",
    "selected_files=list(selected_files)"
   ]
  },
  {
   "cell_type": "code",
   "execution_count": 120,
   "id": "00b6d19a",
   "metadata": {
    "ExecuteTime": {
     "end_time": "2021-09-27T13:59:47.430058Z",
     "start_time": "2021-09-27T13:44:47.726780Z"
    }
   },
   "outputs": [],
   "source": [
    "#Extracting Audio Files\n",
    "for i in range(len(selected_files)):\n",
    "    with ZipFile(source+'CMU_MOSEI.zip', 'r') as zipObj:\n",
    "        zipObj.extract('Raw/Audio/Full/WAV_16000/'+selected_files[i]+\".wav\",int_dest)    \n",
    "        zipObj.close()"
   ]
  },
  {
   "cell_type": "code",
   "execution_count": 121,
   "id": "5de7eaf3",
   "metadata": {
    "ExecuteTime": {
     "end_time": "2021-09-27T13:59:47.446042Z",
     "start_time": "2021-09-27T13:59:47.430058Z"
    }
   },
   "outputs": [],
   "source": [
    "source='Data/mosei/Required Audio Files/Raw/Audio/Full/WAV_16000/'\n",
    "int_dest='Data/mosei/Required Audio Files/Segmented/'"
   ]
  },
  {
   "cell_type": "code",
   "execution_count": 123,
   "id": "f488e031",
   "metadata": {
    "ExecuteTime": {
     "end_time": "2021-09-27T13:59:54.848094Z",
     "start_time": "2021-09-27T13:59:47.462041Z"
    }
   },
   "outputs": [],
   "source": [
    "#Extracting Required Audio Files. \n",
    "for i in range(mosei_raw.shape[0]):\n",
    "    \n",
    "    old_audio = AudioSegment.from_wav(source+mosei_raw['OriginalFileName'].iloc[i]+\".wav\")\n",
    "    new_audio=old_audio[mosei_raw['Starting'].iloc[i]*1000:mosei_raw['Ending'].iloc[i]*1000]\n",
    "\n",
    "    new_audio.export(int_dest+mosei_raw['FileName'].iloc[i]+\".wav\",format = \"wav\",bitrate='256k')"
   ]
  },
  {
   "cell_type": "code",
   "execution_count": 124,
   "id": "388df2a8",
   "metadata": {
    "ExecuteTime": {
     "end_time": "2021-09-27T14:01:29.768673Z",
     "start_time": "2021-09-27T14:01:23.122453Z"
    }
   },
   "outputs": [],
   "source": [
    "#Moving into final DeToxy Folder\n",
    "files=os.listdir(int_dest)\n",
    "\n",
    "for i in range(0,len(files)):\n",
    "    shutil.copy2(int_dest+files[i], destination)"
   ]
  },
  {
   "cell_type": "markdown",
   "id": "4669cc3b",
   "metadata": {},
   "source": [
    "## CMU - MOSI"
   ]
  },
  {
   "cell_type": "code",
   "execution_count": 125,
   "id": "67463848",
   "metadata": {
    "ExecuteTime": {
     "end_time": "2021-09-27T14:01:34.534304Z",
     "start_time": "2021-09-27T14:01:34.528304Z"
    }
   },
   "outputs": [],
   "source": [
    "source='Data/mosi/Raw/Audio/WAV_16000/Segmented/'"
   ]
  },
  {
   "cell_type": "code",
   "execution_count": 126,
   "id": "d00d43d7",
   "metadata": {
    "ExecuteTime": {
     "end_time": "2021-09-27T14:01:35.214017Z",
     "start_time": "2021-09-27T14:01:35.201980Z"
    }
   },
   "outputs": [],
   "source": [
    "#Getting Required File names\n",
    "selected_files=transcript[transcript['Dataset']=='CMU-MOSI']['FileName'].unique()\n",
    "selected_files=list(selected_files)"
   ]
  },
  {
   "cell_type": "code",
   "execution_count": 127,
   "id": "c28c87f2",
   "metadata": {
    "ExecuteTime": {
     "end_time": "2021-09-27T14:01:41.620325Z",
     "start_time": "2021-09-27T14:01:36.008846Z"
    }
   },
   "outputs": [],
   "source": [
    "#Moving into final DeToxy Folder\n",
    "for i in range(len(selected_files)):\n",
    "    shutil.copy2(source+selected_files[i]+\".wav\", destination)"
   ]
  },
  {
   "cell_type": "markdown",
   "id": "6242625a",
   "metadata": {},
   "source": [
    "## Social IQ"
   ]
  },
  {
   "cell_type": "code",
   "execution_count": 128,
   "id": "86973d47",
   "metadata": {
    "ExecuteTime": {
     "end_time": "2021-09-27T14:01:47.657695Z",
     "start_time": "2021-09-27T14:01:47.645663Z"
    }
   },
   "outputs": [],
   "source": [
    "source='Data/socialiq/'\n",
    "int_dest='Data/socialiq/Required Audio Files/'"
   ]
  },
  {
   "cell_type": "code",
   "execution_count": 132,
   "id": "7e25e5bf",
   "metadata": {
    "ExecuteTime": {
     "end_time": "2021-09-27T14:07:05.251836Z",
     "start_time": "2021-09-27T14:07:05.231836Z"
    }
   },
   "outputs": [],
   "source": [
    "social_iq_raw=pd.read_csv(\"Data/Detoxy-B/Transcripts/Social-IQ.csv\")"
   ]
  },
  {
   "cell_type": "code",
   "execution_count": null,
   "id": "deb168d3",
   "metadata": {
    "ExecuteTime": {
     "end_time": "2021-09-27T11:52:00.902347Z",
     "start_time": "2021-09-27T11:52:00.894349Z"
    }
   },
   "outputs": [],
   "source": [
    "#Creating New File Names\n",
    "social_iq_raw['FileName']=social_iq_raw['FileName'].str.replace('.txt','.wav')\n",
    "social_iq_raw['FileName']=social_iq_raw['FileName'].str.replace('-trimmed','_trimmed-out')\n",
    "social_iq_raw['File Id']=social_iq_raw.index+1"
   ]
  },
  {
   "cell_type": "code",
   "execution_count": 135,
   "id": "9b680044",
   "metadata": {
    "ExecuteTime": {
     "end_time": "2021-09-27T14:07:36.837001Z",
     "start_time": "2021-09-27T14:07:36.799554Z"
    }
   },
   "outputs": [],
   "source": [
    "selected_files=social_iq_raw['FileName'].unique()\n",
    "selected_files=list(selected_files)"
   ]
  },
  {
   "cell_type": "code",
   "execution_count": null,
   "id": "a02d928b",
   "metadata": {
    "ExecuteTime": {
     "end_time": "2021-09-21T16:50:22.281976Z",
     "start_time": "2021-09-21T16:49:38.602070Z"
    }
   },
   "outputs": [],
   "source": [
    "#Extracting Audio Files\n",
    "for i in range(len(selected_files)):\n",
    "    with ZipFile(source+'Social-IQ.zip', 'r') as zipObj:\n",
    "        zipObj.extract('raw/acoustic/wav/'+selected_files[i],int_dest)    \n",
    "        zipObj.close()"
   ]
  },
  {
   "cell_type": "code",
   "execution_count": null,
   "id": "33cd1c5f",
   "metadata": {
    "ExecuteTime": {
     "end_time": "2021-09-22T05:46:06.798126Z",
     "start_time": "2021-09-22T05:46:06.782749Z"
    }
   },
   "outputs": [],
   "source": [
    "source='Data/socialiq/Required Audio Files/raw/acoustic/wav/'\n",
    "int_dest='Data/socialiq/Required Audio Files/Segmented/'"
   ]
  },
  {
   "cell_type": "code",
   "execution_count": null,
   "id": "fcf5f06a",
   "metadata": {
    "ExecuteTime": {
     "end_time": "2021-09-22T05:55:14.172835Z",
     "start_time": "2021-09-22T05:54:43.405025Z"
    }
   },
   "outputs": [],
   "source": [
    "#Extracting Audio Segments\n",
    "for i in range(social_iq_raw.shape[0]):\n",
    "    \n",
    "    old_audio = AudioSegment.from_wav(source+social_iq_raw['FileName'].iloc[i])\n",
    "    new_audio=old_audio[max(0,(float(social_iq_raw['start'].iloc[i].split(\":\")[1]) + 0.2) *1000) : (float(social_iq_raw['end'].iloc[i].split(\":\")[1]) + 0.2)*1000]\n",
    "\n",
    "    new_audio.export(int_dest+social_iq_raw['FileName'].iloc[i][:-4]+str(social_iq_raw['File Id'].iloc[i])+\".wav\",format = \"wav\",bitrate='256k')"
   ]
  },
  {
   "cell_type": "code",
   "execution_count": 137,
   "id": "56feb90d",
   "metadata": {
    "ExecuteTime": {
     "end_time": "2021-09-27T14:08:57.816004Z",
     "start_time": "2021-09-27T14:08:51.611665Z"
    }
   },
   "outputs": [],
   "source": [
    "#Moving into final location\n",
    "source='Data/socialiq/Required Audio Files/Segmented/'\n",
    "selected_files=os.listdir(source)\n",
    "\n",
    "for i in range(len(selected_files)):\n",
    "    shutil.copy2(source+selected_files[i], destination)"
   ]
  },
  {
   "cell_type": "code",
   "execution_count": 139,
   "id": "a2cdd615",
   "metadata": {
    "ExecuteTime": {
     "end_time": "2021-09-27T14:09:00.757885Z",
     "start_time": "2021-09-27T14:09:00.726636Z"
    }
   },
   "outputs": [],
   "source": [
    "social_iq_raw['FileName']=social_iq_raw['FileName'].str.replace('.wav','')"
   ]
  },
  {
   "cell_type": "code",
   "execution_count": null,
   "id": "7c0a01d8",
   "metadata": {
    "ExecuteTime": {
     "end_time": "2021-09-27T11:52:10.870823Z",
     "start_time": "2021-09-27T11:52:10.854822Z"
    }
   },
   "outputs": [],
   "source": [
    "social_iq_raw.to_csv(\"Data/Detoxy-B/Transcripts/Social-IQ.csv\",index=False)"
   ]
  },
  {
   "cell_type": "markdown",
   "id": "104ab70e",
   "metadata": {},
   "source": [
    "## MSP - Podcast"
   ]
  },
  {
   "cell_type": "code",
   "execution_count": 140,
   "id": "5f37e82e",
   "metadata": {
    "ExecuteTime": {
     "end_time": "2021-09-27T14:09:46.989693Z",
     "start_time": "2021-09-27T14:09:46.974040Z"
    }
   },
   "outputs": [],
   "source": [
    "source='Data/MSP-Podcast/Audio Files/Wav 16khz files/'"
   ]
  },
  {
   "cell_type": "code",
   "execution_count": 141,
   "id": "bea03e1e",
   "metadata": {
    "ExecuteTime": {
     "end_time": "2021-09-27T14:09:47.290649Z",
     "start_time": "2021-09-27T14:09:47.274988Z"
    }
   },
   "outputs": [],
   "source": [
    "msp_podcast=transcript[transcript['Dataset']=='MSP-Podcast']\n",
    "msp_podcast.reset_index(drop=True,inplace=True)"
   ]
  },
  {
   "cell_type": "code",
   "execution_count": 142,
   "id": "56b1378a",
   "metadata": {
    "ExecuteTime": {
     "end_time": "2021-09-27T14:09:47.760743Z",
     "start_time": "2021-09-27T14:09:47.745468Z"
    }
   },
   "outputs": [],
   "source": [
    "selected_files=msp_podcast['FileName'].unique()\n",
    "selected_files=list(selected_files)"
   ]
  },
  {
   "cell_type": "code",
   "execution_count": 145,
   "id": "4bfcd718",
   "metadata": {
    "ExecuteTime": {
     "end_time": "2021-09-27T14:11:17.541441Z",
     "start_time": "2021-09-27T14:11:15.337784Z"
    }
   },
   "outputs": [],
   "source": [
    "for i in range(len(selected_files)):\n",
    "    shutil.copy2(source+selected_files[i]+'.wav', final_destination)"
   ]
  },
  {
   "cell_type": "markdown",
   "id": "f019f51d",
   "metadata": {},
   "source": [
    "## Converting to 16Khz "
   ]
  },
  {
   "cell_type": "code",
   "execution_count": 148,
   "id": "b7643495",
   "metadata": {
    "ExecuteTime": {
     "end_time": "2021-09-27T14:11:17.590780Z",
     "start_time": "2021-09-27T14:11:17.574766Z"
    }
   },
   "outputs": [],
   "source": [
    "from tqdm import tqdm\n",
    "import soundfile as sf"
   ]
  },
  {
   "cell_type": "code",
   "execution_count": 149,
   "id": "24b72dd1",
   "metadata": {
    "ExecuteTime": {
     "end_time": "2021-09-27T14:11:18.412788Z",
     "start_time": "2021-09-27T14:11:17.592779Z"
    }
   },
   "outputs": [],
   "source": [
    "files=os.listdir(destination)"
   ]
  },
  {
   "cell_type": "code",
   "execution_count": 150,
   "id": "9879c5ab",
   "metadata": {
    "ExecuteTime": {
     "end_time": "2021-09-27T14:56:25.891452Z",
     "start_time": "2021-09-27T14:11:18.414460Z"
    }
   },
   "outputs": [
    {
     "name": "stderr",
     "output_type": "stream",
     "text": [
      "100%|████████████████████████████████████████████████████████████████████████████| 15711/15711 [45:07<00:00,  5.80it/s]"
     ]
    },
    {
     "name": "stdout",
     "output_type": "stream",
     "text": [
      "------------------End------------------------\n"
     ]
    },
    {
     "name": "stderr",
     "output_type": "stream",
     "text": [
      "\n"
     ]
    }
   ],
   "source": [
    "for file in tqdm(files):\n",
    "    filename = destination + file\n",
    "    try:\n",
    "        y, sr = librosa.load(filename, sr=16000)\n",
    "        y_16 = librosa.resample(y,orig_sr=sr,target_sr=16000)\n",
    "        sf.write(final_destination + file,y_16, 16000,'PCM_16')\n",
    "    except:\n",
    "        print(filename)\n",
    "print(\"------------------End------------------------\")"
   ]
  },
  {
   "cell_type": "markdown",
   "id": "e0fffdb9",
   "metadata": {},
   "source": [
    "## Splitting audio into train,test and split"
   ]
  },
  {
   "cell_type": "code",
   "execution_count": 153,
   "id": "dbfd5b5f",
   "metadata": {
    "ExecuteTime": {
     "end_time": "2021-09-27T15:04:46.473222Z",
     "start_time": "2021-09-27T15:04:46.457600Z"
    }
   },
   "outputs": [],
   "source": [
    "source='Data/Detoxy-B/Final_Audio/'"
   ]
  },
  {
   "cell_type": "code",
   "execution_count": 158,
   "id": "51973f85",
   "metadata": {
    "ExecuteTime": {
     "end_time": "2021-09-27T15:07:07.498817Z",
     "start_time": "2021-09-27T15:07:07.451900Z"
    }
   },
   "outputs": [],
   "source": [
    "final_transcripts=pd.read_csv(\"Data/Detoxy-B/Transcripts/DeToxy.csv\")"
   ]
  },
  {
   "cell_type": "code",
   "execution_count": 161,
   "id": "59cc4c89",
   "metadata": {
    "ExecuteTime": {
     "end_time": "2021-09-27T15:19:29.549537Z",
     "start_time": "2021-09-27T15:15:58.573568Z"
    }
   },
   "outputs": [],
   "source": [
    "#Moving Train \n",
    "\n",
    "destination_train='Data/Detoxy-B/Input/train/'\n",
    "\n",
    "train=final_transcripts[final_transcripts['split']==0]\n",
    "train.reset_index(drop=True,inplace=True)\n",
    "\n",
    "selected_files=train['FileName'].unique()\n",
    "selected_files=list(selected_files)\n",
    "\n",
    "for i in range(len(selected_files)):\n",
    "    shutil.copy2(source+selected_files[i]+'.wav', destination_train)"
   ]
  },
  {
   "cell_type": "code",
   "execution_count": 159,
   "id": "625d69ae",
   "metadata": {
    "ExecuteTime": {
     "end_time": "2021-09-27T15:07:44.397555Z",
     "start_time": "2021-09-27T15:07:34.765245Z"
    }
   },
   "outputs": [],
   "source": [
    "#Moving Test \n",
    "\n",
    "destination_test='Data/Detoxy-B/Input/test/'\n",
    "\n",
    "test=final_transcripts[final_transcripts['split']==2]\n",
    "test.reset_index(drop=True,inplace=True)\n",
    "\n",
    "selected_files=test['FileName'].unique()\n",
    "selected_files=list(selected_files)\n",
    "\n",
    "for i in range(0,len(selected_files)):\n",
    "    shutil.copy2(source+selected_files[i]+'.wav', destination_test)"
   ]
  },
  {
   "cell_type": "code",
   "execution_count": 160,
   "id": "ae463e3f",
   "metadata": {
    "ExecuteTime": {
     "end_time": "2021-09-27T15:15:58.573568Z",
     "start_time": "2021-09-27T15:15:19.108602Z"
    }
   },
   "outputs": [],
   "source": [
    "#Moving dev \n",
    "\n",
    "destination_dev='Data/Detoxy-B/Input/dev/'\n",
    "\n",
    "dev=final_transcripts[final_transcripts['split']==1]\n",
    "dev.reset_index(drop=True,inplace=True)\n",
    "\n",
    "selected_files=dev['FileName'].unique()\n",
    "selected_files=list(selected_files)\n",
    "\n",
    "for i in range(len(selected_files)):\n",
    "    shutil.copy2(source+selected_files[i]+'.wav', destination_dev)"
   ]
  },
  {
   "cell_type": "markdown",
   "id": "a1301c26",
   "metadata": {},
   "source": [
    "## Creating Trigger Term Dataset"
   ]
  },
  {
   "cell_type": "code",
   "execution_count": 42,
   "id": "9dd829be",
   "metadata": {
    "ExecuteTime": {
     "end_time": "2021-09-29T16:15:25.597285Z",
     "start_time": "2021-09-29T16:15:25.581826Z"
    }
   },
   "outputs": [],
   "source": [
    "source='Data/Detoxy-B/Transcripts/'"
   ]
  },
  {
   "cell_type": "code",
   "execution_count": 43,
   "id": "28a1f710",
   "metadata": {
    "ExecuteTime": {
     "end_time": "2021-09-29T16:15:27.737974Z",
     "start_time": "2021-09-29T16:15:27.716397Z"
    }
   },
   "outputs": [],
   "source": [
    "# Not including the final dataset to avoid double counting.\n",
    "files=os.listdir(source)\n",
    "files.remove('DeToxy.csv')"
   ]
  },
  {
   "cell_type": "code",
   "execution_count": 44,
   "id": "5f68e5f2",
   "metadata": {
    "ExecuteTime": {
     "end_time": "2021-09-29T16:15:28.306369Z",
     "start_time": "2021-09-29T16:15:28.288027Z"
    }
   },
   "outputs": [],
   "source": [
    "#Initialising a new dataframe\n",
    "combined_df=pd.DataFrame()\n",
    "combined_df[['Dataset','FileName','text','label2a','Trigger','Sentiment','Toxic Filter','split']]=np.nan"
   ]
  },
  {
   "cell_type": "code",
   "execution_count": 45,
   "id": "efe9560c",
   "metadata": {
    "ExecuteTime": {
     "end_time": "2021-09-29T16:15:28.919342Z",
     "start_time": "2021-09-29T16:15:28.787135Z"
    }
   },
   "outputs": [],
   "source": [
    "#Appending the transcripts\n",
    "for i in range(len(files)):\n",
    "    temp=pd.read_csv(source+files[i])\n",
    "    temp=temp.filter(['Dataset','FileName','text','Label','Trigger','Sentiment','Toxic Filter'])\n",
    "    combined_df=combined_df.append(temp)\n",
    "    \n",
    "combined_df.reset_index(drop=True,inplace=True)"
   ]
  },
  {
   "cell_type": "code",
   "execution_count": 46,
   "id": "ac6bb31d",
   "metadata": {
    "ExecuteTime": {
     "end_time": "2021-09-29T16:15:29.406360Z",
     "start_time": "2021-09-29T16:15:29.327780Z"
    }
   },
   "outputs": [],
   "source": [
    "#Cleaning the data\n",
    "combined_df['Trigger'].fillna(0,inplace=True)\n",
    "combined_df['FileName']=combined_df['FileName'].str.replace('.wav','')\n",
    "combined_df['FileName']=combined_df['FileName'].str.replace('.mp3','')\n",
    "combined_df['FileName']=combined_df['FileName'].str.replace('.txt','')"
   ]
  },
  {
   "cell_type": "code",
   "execution_count": 47,
   "id": "bd8946c4",
   "metadata": {
    "ExecuteTime": {
     "end_time": "2021-09-29T16:15:29.842718Z",
     "start_time": "2021-09-29T16:15:29.823104Z"
    }
   },
   "outputs": [],
   "source": [
    "#Subsetting only trigger term dataset\n",
    "trigger=combined_df[combined_df['Trigger']==1]\n",
    "trigger.reset_index(drop=True,inplace=True)\n",
    "trigger['Trigger']=trigger['Trigger'].astype(int)"
   ]
  },
  {
   "cell_type": "code",
   "execution_count": 38,
   "id": "6bbeb4d6",
   "metadata": {
    "ExecuteTime": {
     "end_time": "2021-09-29T16:14:14.673281Z",
     "start_time": "2021-09-29T16:14:14.658074Z"
    }
   },
   "outputs": [],
   "source": [
    "source='Final Audio/'\n",
    "destination='Data/Detoxy-B/DeToxy/Input/trigger/'"
   ]
  },
  {
   "cell_type": "code",
   "execution_count": 39,
   "id": "4bfcb90f",
   "metadata": {
    "ExecuteTime": {
     "end_time": "2021-09-29T16:14:15.508778Z",
     "start_time": "2021-09-29T16:14:15.485863Z"
    }
   },
   "outputs": [],
   "source": [
    "#Getting Required File Names\n",
    "selected_files=trigger['FileName'].unique()\n",
    "selected_files=list(selected_files)"
   ]
  },
  {
   "cell_type": "code",
   "execution_count": null,
   "id": "04a1fff7",
   "metadata": {
    "ExecuteTime": {
     "end_time": "2021-09-29T16:14:17.089809Z",
     "start_time": "2021-09-29T16:14:17.063483Z"
    }
   },
   "outputs": [],
   "source": [
    "#Moving into final location\n",
    "for i in range(len(selected_files)):\n",
    "    shutil.copy2(source+selected_files[i]+'.wav', destination)"
   ]
  }
 ],
 "metadata": {
  "kernelspec": {
   "display_name": "Python 3",
   "language": "python",
   "name": "python3"
  },
  "language_info": {
   "codemirror_mode": {
    "name": "ipython",
    "version": 3
   },
   "file_extension": ".py",
   "mimetype": "text/x-python",
   "name": "python",
   "nbconvert_exporter": "python",
   "pygments_lexer": "ipython3",
   "version": "3.6.13"
  }
 },
 "nbformat": 4,
 "nbformat_minor": 5
}
